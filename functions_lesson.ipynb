{
 "cells": [
  {
   "cell_type": "code",
   "execution_count": 1,
   "id": "physical-meter",
   "metadata": {},
   "outputs": [],
   "source": [
    "a = 2\n",
    "b = 43"
   ]
  },
  {
   "cell_type": "code",
   "execution_count": 2,
   "id": "running-service",
   "metadata": {},
   "outputs": [
    {
     "name": "stdout",
     "output_type": "stream",
     "text": [
      "Addition is commutative\n"
     ]
    }
   ],
   "source": [
    "# A single if is a side-trip\n",
    "if a + b == b + a:\n",
    "    print(\"Addition is commutative\")"
   ]
  },
  {
   "cell_type": "code",
   "execution_count": 3,
   "id": "inclusive-wallpaper",
   "metadata": {},
   "outputs": [],
   "source": [
    "# an if/else is a fork in the road"
   ]
  },
  {
   "cell_type": "markdown",
   "id": "wound-passenger",
   "metadata": {},
   "source": [
    "# Functions Intro\n",
    "- If we have a chunk of code (1 line or 1000 lines of code) that work together in a cohesive unit to do a thing, we can use a function to give that chunk of code a name.\n",
    "- Naming things is super valuable\n",
    "- If we have a process w/ a name, we can call it by name"
   ]
  },
  {
   "cell_type": "code",
   "execution_count": 4,
   "id": "italian-atlantic",
   "metadata": {},
   "outputs": [
    {
     "data": {
      "text/plain": [
       "<function print>"
      ]
     },
     "execution_count": 4,
     "metadata": {},
     "output_type": "execute_result"
    }
   ],
   "source": [
    "# Python has tons of built-in functions\n",
    "print"
   ]
  },
  {
   "cell_type": "code",
   "execution_count": 5,
   "id": "associate-error",
   "metadata": {},
   "outputs": [
    {
     "data": {
      "text/plain": [
       "<function len(obj, /)>"
      ]
     },
     "execution_count": 5,
     "metadata": {},
     "output_type": "execute_result"
    }
   ],
   "source": [
    "len"
   ]
  },
  {
   "cell_type": "code",
   "execution_count": 6,
   "id": "postal-douglas",
   "metadata": {},
   "outputs": [
    {
     "data": {
      "text/plain": [
       "<function max>"
      ]
     },
     "execution_count": 6,
     "metadata": {},
     "output_type": "execute_result"
    }
   ],
   "source": [
    "max"
   ]
  },
  {
   "cell_type": "code",
   "execution_count": 7,
   "id": "peaceful-darkness",
   "metadata": {},
   "outputs": [
    {
     "data": {
      "text/plain": [
       "<function min>"
      ]
     },
     "execution_count": 7,
     "metadata": {},
     "output_type": "execute_result"
    }
   ],
   "source": [
    "min"
   ]
  },
  {
   "cell_type": "code",
   "execution_count": 8,
   "id": "going-speaker",
   "metadata": {},
   "outputs": [
    {
     "data": {
      "text/plain": [
       "int"
      ]
     },
     "execution_count": 8,
     "metadata": {},
     "output_type": "execute_result"
    }
   ],
   "source": [
    "type(4)"
   ]
  },
  {
   "cell_type": "code",
   "execution_count": 9,
   "id": "geological-willow",
   "metadata": {},
   "outputs": [
    {
     "data": {
      "text/plain": [
       "builtin_function_or_method"
      ]
     },
     "execution_count": 9,
     "metadata": {},
     "output_type": "execute_result"
    }
   ],
   "source": [
    "type(len)"
   ]
  },
  {
   "cell_type": "code",
   "execution_count": 10,
   "id": "inappropriate-february",
   "metadata": {},
   "outputs": [
    {
     "data": {
      "text/plain": [
       "builtin_function_or_method"
      ]
     },
     "execution_count": 10,
     "metadata": {},
     "output_type": "execute_result"
    }
   ],
   "source": [
    "type(max)"
   ]
  },
  {
   "cell_type": "code",
   "execution_count": 11,
   "id": "informational-roberts",
   "metadata": {},
   "outputs": [
    {
     "data": {
      "text/plain": [
       "method"
      ]
     },
     "execution_count": 11,
     "metadata": {},
     "output_type": "execute_result"
    }
   ],
   "source": [
    "type(input)"
   ]
  },
  {
   "cell_type": "code",
   "execution_count": 12,
   "id": "intermediate-faculty",
   "metadata": {},
   "outputs": [
    {
     "data": {
      "text/plain": [
       "<function max>"
      ]
     },
     "execution_count": 12,
     "metadata": {},
     "output_type": "execute_result"
    }
   ],
   "source": [
    "# When you type the name of a function without parentheses, you get the function body\n",
    "# A function's body is its definition\n",
    "max"
   ]
  },
  {
   "cell_type": "code",
   "execution_count": 13,
   "id": "gross-advocacy",
   "metadata": {},
   "outputs": [
    {
     "data": {
      "text/plain": [
       "builtin_function_or_method"
      ]
     },
     "execution_count": 13,
     "metadata": {},
     "output_type": "execute_result"
    }
   ],
   "source": [
    "type(max)"
   ]
  },
  {
   "cell_type": "code",
   "execution_count": 14,
   "id": "declared-elite",
   "metadata": {},
   "outputs": [
    {
     "data": {
      "text/plain": [
       "99"
      ]
     },
     "execution_count": 14,
     "metadata": {},
     "output_type": "execute_result"
    }
   ],
   "source": [
    "# Running, calling, executing, or invoking a function means to tell that function to run\n",
    "max([1, 2, 3, 4, 5, 99])"
   ]
  },
  {
   "cell_type": "markdown",
   "id": "certified-winning",
   "metadata": {},
   "source": [
    "## User Defined Functions"
   ]
  },
  {
   "cell_type": "code",
   "execution_count": 15,
   "id": "destroyed-enzyme",
   "metadata": {},
   "outputs": [],
   "source": [
    "# Anatomy of defining your own function\n",
    "# def keyword\n",
    "# name of the function\n",
    "# parameters in the parentheses (the input variable(s) names internally)\n",
    "# docstring in triple quotes that communicates what your function does\n",
    "# body of the function w/ a return\n",
    "\n",
    "# Let's build an average function\n",
    "def avg(numbers):\n",
    "    \"\"\"\n",
    "    Returns the average of a list of numbers. Returns None if the input variable is not a list.\n",
    "    \"\"\"\n",
    "    if type(numbers) != list:\n",
    "        return None\n",
    "    \n",
    "    return sum(numbers) / len(numbers)"
   ]
  },
  {
   "cell_type": "markdown",
   "id": "danish-bowling",
   "metadata": {},
   "source": [
    "### Function Definitions\n",
    "- are blueprints\n",
    "- we can think of function defintions as spells in your spellbook\n",
    "- Building out our own functions allows us to name procedures/sequences of steps\n",
    "- One you have a name for a verb or verb phrase, we don't have to think/worry about the internals"
   ]
  },
  {
   "cell_type": "code",
   "execution_count": 16,
   "id": "severe-beginning",
   "metadata": {},
   "outputs": [
    {
     "data": {
      "text/plain": [
       "15.444444444444445"
      ]
     },
     "execution_count": 16,
     "metadata": {},
     "output_type": "execute_result"
    }
   ],
   "source": [
    "a = [1, 2, 3, 54, 5, 34, 24, 13, 3]\n",
    "avg(a)"
   ]
  },
  {
   "cell_type": "code",
   "execution_count": 17,
   "id": "anticipated-event",
   "metadata": {},
   "outputs": [
    {
     "data": {
      "text/plain": [
       "12.0"
      ]
     },
     "execution_count": 17,
     "metadata": {},
     "output_type": "execute_result"
    }
   ],
   "source": [
    "avg([12, 12, 12])"
   ]
  },
  {
   "cell_type": "code",
   "execution_count": 18,
   "id": "organized-virginia",
   "metadata": {},
   "outputs": [],
   "source": [
    "# Exercise: Write a function called second_smallest that takes in a list of numbers and returns the second smallest number"
   ]
  },
  {
   "cell_type": "markdown",
   "id": "front-chile",
   "metadata": {},
   "source": [
    "## One Weird Trick to Authoring a Function\n",
    "> Blow off the function\n",
    "\n",
    "- Build out the code that the function should do first\n",
    "- Then we can wrap that code in a function definition"
   ]
  },
  {
   "cell_type": "code",
   "execution_count": 19,
   "id": "equipped-limitation",
   "metadata": {},
   "outputs": [],
   "source": [
    "# If we need to get the second smallest number in a list\n",
    "# we should sort the list\n",
    "# we should remove duplicates, because the second smallest number of [1, 1, 2] is 2 and not 1\n",
    "# return the second item of that list"
   ]
  },
  {
   "cell_type": "code",
   "execution_count": 20,
   "id": "worse-channels",
   "metadata": {},
   "outputs": [
    {
     "data": {
      "text/plain": [
       "2"
      ]
     },
     "execution_count": 20,
     "metadata": {},
     "output_type": "execute_result"
    }
   ],
   "source": [
    "numbers = [1, 1, 2, 3, 4, 4, 4, 4, 5]\n",
    "\n",
    "# remove duplicates\n",
    "numbers = set(numbers)\n",
    "numbers = list(numbers)\n",
    "numbers.sort()\n",
    "numbers[1]"
   ]
  },
  {
   "cell_type": "code",
   "execution_count": 21,
   "id": "binary-document",
   "metadata": {},
   "outputs": [],
   "source": [
    "# We can wrap this in a function definition and instead of a hard-coded input variable, we create a parameter\n",
    "\n",
    "def second_smallest(numbers):\n",
    "    numbers = set(numbers)\n",
    "    numbers = list(numbers)\n",
    "    numbers.sort()\n",
    "    return numbers[1]"
   ]
  },
  {
   "cell_type": "code",
   "execution_count": 22,
   "id": "better-suspect",
   "metadata": {},
   "outputs": [
    {
     "data": {
      "text/plain": [
       "-5"
      ]
     },
     "execution_count": 22,
     "metadata": {},
     "output_type": "execute_result"
    }
   ],
   "source": [
    "second_smallest([-5, -2, -111, 33])"
   ]
  },
  {
   "cell_type": "code",
   "execution_count": 23,
   "id": "smoking-stability",
   "metadata": {},
   "outputs": [
    {
     "data": {
      "text/plain": [
       "4"
      ]
     },
     "execution_count": 23,
     "metadata": {},
     "output_type": "execute_result"
    }
   ],
   "source": [
    "second_smallest([3, 4, 5])"
   ]
  },
  {
   "cell_type": "code",
   "execution_count": 24,
   "id": "exempt-biodiversity",
   "metadata": {},
   "outputs": [],
   "source": [
    "import math\n",
    "\n",
    "def hypotenuse(a, b):\n",
    "    \"\"\"\n",
    "    Returns square root of (a squared + b squared)\n",
    "    Assumes this is a right triangle\n",
    "    \"\"\"\n",
    "    result = math.sqrt(a**2 + b**2)\n",
    "    return result"
   ]
  },
  {
   "cell_type": "code",
   "execution_count": 25,
   "id": "inner-calculator",
   "metadata": {},
   "outputs": [
    {
     "data": {
      "text/plain": [
       "'Light roast'"
      ]
     },
     "execution_count": 25,
     "metadata": {},
     "output_type": "execute_result"
    }
   ],
   "source": [
    "coffee = \"None yet\"\n",
    "\n",
    "if True:\n",
    "    coffee = \"Light roast\"\n",
    "\n",
    "coffee"
   ]
  },
  {
   "cell_type": "code",
   "execution_count": 26,
   "id": "worse-police",
   "metadata": {},
   "outputs": [
    {
     "data": {
      "text/plain": [
       "5.830951894845301"
      ]
     },
     "execution_count": 26,
     "metadata": {},
     "output_type": "execute_result"
    }
   ],
   "source": [
    "hypotenuse(3, 5)"
   ]
  },
  {
   "cell_type": "code",
   "execution_count": 27,
   "id": "alive-silver",
   "metadata": {},
   "outputs": [
    {
     "data": {
      "text/plain": [
       "3.0"
      ]
     },
     "execution_count": 27,
     "metadata": {},
     "output_type": "execute_result"
    }
   ],
   "source": [
    "math.sqrt(9)"
   ]
  },
  {
   "cell_type": "code",
   "execution_count": 28,
   "id": "correct-stopping",
   "metadata": {},
   "outputs": [
    {
     "data": {
      "text/plain": [
       "43"
      ]
     },
     "execution_count": 28,
     "metadata": {},
     "output_type": "execute_result"
    }
   ],
   "source": [
    "b"
   ]
  },
  {
   "cell_type": "code",
   "execution_count": 29,
   "id": "married-portland",
   "metadata": {},
   "outputs": [
    {
     "data": {
      "text/plain": [
       "[1, 2, 3, 54, 5, 34, 24, 13, 3]"
      ]
     },
     "execution_count": 29,
     "metadata": {},
     "output_type": "execute_result"
    }
   ],
   "source": [
    "a"
   ]
  },
  {
   "cell_type": "code",
   "execution_count": 30,
   "id": "endangered-boating",
   "metadata": {},
   "outputs": [],
   "source": [
    "def uppercase(string):\n",
    "#     return string.upper() is the right answer\n",
    "    string.upper() # this code runs but no return means return None"
   ]
  },
  {
   "cell_type": "code",
   "execution_count": 31,
   "id": "waiting-princess",
   "metadata": {},
   "outputs": [
    {
     "name": "stdout",
     "output_type": "stream",
     "text": [
      "<class 'NoneType'>\n"
     ]
    }
   ],
   "source": [
    "x = uppercase(\"banana\")\n",
    "print(type(x))\n",
    "x"
   ]
  },
  {
   "cell_type": "code",
   "execution_count": 36,
   "id": "welsh-zambia",
   "metadata": {},
   "outputs": [],
   "source": [
    "# Avoid print like the plague. Print the result the function returns instead\n",
    "def lowercase(string):\n",
    "#     print(string.lower()) prints stuff, but doesn't return anything    \n",
    "    return print(string.lower()) # print returns none, so return None is returning none"
   ]
  },
  {
   "cell_type": "code",
   "execution_count": 37,
   "id": "natural-jungle",
   "metadata": {
    "scrolled": true
   },
   "outputs": [
    {
     "name": "stdout",
     "output_type": "stream",
     "text": [
      "coffee!~!~~!\n"
     ]
    },
    {
     "data": {
      "text/plain": [
       "NoneType"
      ]
     },
     "execution_count": 37,
     "metadata": {},
     "output_type": "execute_result"
    }
   ],
   "source": [
    "x = lowercase(\"COFFEE!~!~~!\")\n",
    "type(x)"
   ]
  },
  {
   "cell_type": "code",
   "execution_count": 38,
   "id": "distant-fishing",
   "metadata": {},
   "outputs": [
    {
     "name": "stdout",
     "output_type": "stream",
     "text": [
      "23poriu23rfil3jr23opru13piu\n"
     ]
    },
    {
     "data": {
      "text/plain": [
       "NoneType"
      ]
     },
     "execution_count": 38,
     "metadata": {},
     "output_type": "execute_result"
    }
   ],
   "source": [
    "x = print(\"23poriu23rfil3jr23opru13piu\")\n",
    "type(x)"
   ]
  },
  {
   "cell_type": "code",
   "execution_count": 39,
   "id": "binding-daisy",
   "metadata": {},
   "outputs": [
    {
     "name": "stdout",
     "output_type": "stream",
     "text": [
      "500\n"
     ]
    }
   ],
   "source": [
    "def tax_return():\n",
    "    amount =  500\n",
    "#     print(amount)\n",
    "    return amount\n",
    "\n",
    "print(tax_return()) # Recommend printing the result of the function call"
   ]
  },
  {
   "cell_type": "code",
   "execution_count": 40,
   "id": "pleased-removal",
   "metadata": {},
   "outputs": [],
   "source": [
    "# What happens if a function returns itself? Recursion\n",
    "# def song_that_never_ends():\n",
    "#     print(\"This is the song that never ends. It goes on and on my friends\")\n",
    "#     print(\"some people started signing it not knowing what it was...\")\n",
    "#     print(\"And now they keep on singing it all just because....\")\n",
    "#     return song_that_never_ends()\n",
    "\n",
    "# song_that_never_ends()"
   ]
  },
  {
   "cell_type": "code",
   "execution_count": 41,
   "id": "independent-wagner",
   "metadata": {},
   "outputs": [],
   "source": [
    "# How to build a function = blow off the function first and make a solution that works on a single input\n",
    "# remove a dollar sign from a string\n",
    "\n",
    "def remove_dollar_sign(string):\n",
    "    string = string.replace(\"$\", \"\")\n",
    "    return string"
   ]
  },
  {
   "cell_type": "code",
   "execution_count": 42,
   "id": "aging-blast",
   "metadata": {},
   "outputs": [],
   "source": [
    "def remove_commas(string):\n",
    "    string = string.replace(\",\", \"\")\n",
    "    return string"
   ]
  },
  {
   "cell_type": "code",
   "execution_count": 43,
   "id": "julian-making",
   "metadata": {},
   "outputs": [],
   "source": [
    "def clean_money(string):\n",
    "    string = remove_dollar_sign(string)\n",
    "    string = remove_commas(string)\n",
    "    return string"
   ]
  },
  {
   "cell_type": "code",
   "execution_count": 44,
   "id": "presidential-prefix",
   "metadata": {},
   "outputs": [],
   "source": [
    "def clean_money(string):\n",
    "    string = remove_commas(remove_dollar_sign(string)) # first remove the dollar sign, then remove the comma\n",
    "    return string"
   ]
  },
  {
   "cell_type": "code",
   "execution_count": 45,
   "id": "endangered-electronics",
   "metadata": {},
   "outputs": [
    {
     "data": {
      "text/plain": [
       "'2345222'"
      ]
     },
     "execution_count": 45,
     "metadata": {},
     "output_type": "execute_result"
    }
   ],
   "source": [
    "clean_money(\"$2,345,222\")"
   ]
  },
  {
   "cell_type": "code",
   "execution_count": 46,
   "id": "informational-hungarian",
   "metadata": {},
   "outputs": [
    {
     "data": {
      "text/plain": [
       "'coffee'"
      ]
     },
     "execution_count": 46,
     "metadata": {},
     "output_type": "execute_result"
    }
   ],
   "source": [
    "\"coffee\".upper().lower().upper().lower()"
   ]
  },
  {
   "cell_type": "code",
   "execution_count": 47,
   "id": "marked-separation",
   "metadata": {},
   "outputs": [
    {
     "data": {
      "text/plain": [
       "function"
      ]
     },
     "execution_count": 47,
     "metadata": {},
     "output_type": "execute_result"
    }
   ],
   "source": [
    "type(clean_money)"
   ]
  },
  {
   "cell_type": "code",
   "execution_count": 48,
   "id": "automotive-animal",
   "metadata": {},
   "outputs": [
    {
     "data": {
      "text/plain": [
       "function"
      ]
     },
     "execution_count": 48,
     "metadata": {},
     "output_type": "execute_result"
    }
   ],
   "source": [
    "type(remove_commas)"
   ]
  },
  {
   "cell_type": "code",
   "execution_count": 49,
   "id": "nominated-cookie",
   "metadata": {},
   "outputs": [
    {
     "data": {
      "text/plain": [
       "<function __main__.<lambda>(n)>"
      ]
     },
     "execution_count": 49,
     "metadata": {},
     "output_type": "execute_result"
    }
   ],
   "source": [
    "# lambdas are anonymous functions\n",
    "# lambdas have an automatic return\n",
    "# lambdas are one liners\n",
    "# lambdas are just function\n",
    "lambda n: n + 1"
   ]
  },
  {
   "cell_type": "code",
   "execution_count": 50,
   "id": "extra-polyester",
   "metadata": {},
   "outputs": [
    {
     "data": {
      "text/plain": [
       "function"
      ]
     },
     "execution_count": 50,
     "metadata": {},
     "output_type": "execute_result"
    }
   ],
   "source": [
    "type(lambda n: n + 1)"
   ]
  },
  {
   "cell_type": "code",
   "execution_count": 51,
   "id": "minus-found",
   "metadata": {},
   "outputs": [
    {
     "data": {
      "text/plain": [
       "function"
      ]
     },
     "execution_count": 51,
     "metadata": {},
     "output_type": "execute_result"
    }
   ],
   "source": [
    "increment = lambda n: n + 1\n",
    "type(increment)"
   ]
  },
  {
   "cell_type": "code",
   "execution_count": 52,
   "id": "national-cliff",
   "metadata": {},
   "outputs": [
    {
     "data": {
      "text/plain": [
       "2"
      ]
     },
     "execution_count": 52,
     "metadata": {},
     "output_type": "execute_result"
    }
   ],
   "source": [
    "increment(1)"
   ]
  },
  {
   "cell_type": "code",
   "execution_count": 53,
   "id": "driven-puzzle",
   "metadata": {},
   "outputs": [],
   "source": [
    "people = [{ \"name\" : \"Nandini\", \"age\" : 23},\n",
    "{ \"name\" : \"Manjeet\", \"age\" : 20 },\n",
    "{ \"name\" : \"Nikhil\" , \"age\" : 19 }]"
   ]
  },
  {
   "cell_type": "code",
   "execution_count": 54,
   "id": "aquatic-series",
   "metadata": {},
   "outputs": [
    {
     "data": {
      "text/plain": [
       "[{'name': 'Nikhil', 'age': 19},\n",
       " {'name': 'Manjeet', 'age': 20},\n",
       " {'name': 'Nandini', 'age': 23}]"
      ]
     },
     "execution_count": 54,
     "metadata": {},
     "output_type": "execute_result"
    }
   ],
   "source": [
    "sorted(people, key=lambda p: p[\"age\"])"
   ]
  },
  {
   "cell_type": "code",
   "execution_count": 55,
   "id": "continuing-remove",
   "metadata": {},
   "outputs": [
    {
     "data": {
      "text/plain": [
       "{'name': 'Nandini', 'age': 23}"
      ]
     },
     "execution_count": 55,
     "metadata": {},
     "output_type": "execute_result"
    }
   ],
   "source": [
    "max(people, key=lambda p:p[\"age\"])"
   ]
  },
  {
   "cell_type": "code",
   "execution_count": 56,
   "id": "regulation-ukraine",
   "metadata": {},
   "outputs": [
    {
     "data": {
      "text/plain": [
       "{'name': 'Nikhil', 'age': 19}"
      ]
     },
     "execution_count": 56,
     "metadata": {},
     "output_type": "execute_result"
    }
   ],
   "source": [
    "min(people, key=lambda p:p[\"age\"])"
   ]
  },
  {
   "cell_type": "code",
   "execution_count": 57,
   "id": "effective-sellers",
   "metadata": {},
   "outputs": [],
   "source": [
    "def increment1(x):\n",
    "    return x + 1\n",
    "\n",
    "increment2 = lambda x: x + 1"
   ]
  },
  {
   "cell_type": "code",
   "execution_count": 58,
   "id": "exact-sunrise",
   "metadata": {},
   "outputs": [
    {
     "data": {
      "text/plain": [
       "(function, function)"
      ]
     },
     "execution_count": 58,
     "metadata": {},
     "output_type": "execute_result"
    }
   ],
   "source": [
    "type(increment1), type(increment2)"
   ]
  },
  {
   "cell_type": "code",
   "execution_count": 59,
   "id": "controlled-pulse",
   "metadata": {},
   "outputs": [
    {
     "data": {
      "text/plain": [
       "[5, 13, 13, 13, 31, 31, 123]"
      ]
     },
     "execution_count": 59,
     "metadata": {},
     "output_type": "execute_result"
    }
   ],
   "source": [
    "sorted([5, 123, 13, 31,31, 13, 13])"
   ]
  },
  {
   "cell_type": "code",
   "execution_count": 60,
   "id": "passive-dressing",
   "metadata": {},
   "outputs": [
    {
     "data": {
      "text/plain": [
       "[{'name': 'Manjeet', 'age': 20},\n",
       " {'name': 'Nandini', 'age': 23},\n",
       " {'name': 'Nikhil', 'age': 19}]"
      ]
     },
     "execution_count": 60,
     "metadata": {},
     "output_type": "execute_result"
    }
   ],
   "source": [
    "sorted(people, key=lambda p:p[\"name\"])"
   ]
  },
  {
   "cell_type": "code",
   "execution_count": 61,
   "id": "first-fault",
   "metadata": {},
   "outputs": [
    {
     "data": {
      "text/plain": [
       "5"
      ]
     },
     "execution_count": 61,
     "metadata": {},
     "output_type": "execute_result"
    }
   ],
   "source": [
    "increment(increment(3))"
   ]
  },
  {
   "cell_type": "code",
   "execution_count": 62,
   "id": "selective-place",
   "metadata": {},
   "outputs": [],
   "source": [
    "def sayhello(greeting = \"Hello\", name = \"World\"):\n",
    "    return greeting + \", \" + name + \"!\""
   ]
  },
  {
   "cell_type": "code",
   "execution_count": 63,
   "id": "limiting-samba",
   "metadata": {},
   "outputs": [
    {
     "data": {
      "text/plain": [
       "'Hello, Everybody!'"
      ]
     },
     "execution_count": 63,
     "metadata": {},
     "output_type": "execute_result"
    }
   ],
   "source": [
    "sayhello(\"Hello\", \"Everybody\")"
   ]
  },
  {
   "cell_type": "code",
   "execution_count": 64,
   "id": "adjustable-positive",
   "metadata": {},
   "outputs": [
    {
     "data": {
      "text/plain": [
       "'Hello, World!'"
      ]
     },
     "execution_count": 64,
     "metadata": {},
     "output_type": "execute_result"
    }
   ],
   "source": [
    "sayhello()"
   ]
  },
  {
   "cell_type": "code",
   "execution_count": 65,
   "id": "animated-alfred",
   "metadata": {},
   "outputs": [
    {
     "data": {
      "text/plain": [
       "'Goodbye, World!'"
      ]
     },
     "execution_count": 65,
     "metadata": {},
     "output_type": "execute_result"
    }
   ],
   "source": [
    "sayhello(greeting=\"Goodbye\")"
   ]
  },
  {
   "cell_type": "code",
   "execution_count": 66,
   "id": "everyday-application",
   "metadata": {},
   "outputs": [
    {
     "data": {
      "text/plain": [
       "'Goodbye, World!'"
      ]
     },
     "execution_count": 66,
     "metadata": {},
     "output_type": "execute_result"
    }
   ],
   "source": [
    "sayhello(\"Goodbye\")"
   ]
  },
  {
   "cell_type": "code",
   "execution_count": 67,
   "id": "painted-saint",
   "metadata": {},
   "outputs": [
    {
     "data": {
      "text/plain": [
       "'Zach, World!'"
      ]
     },
     "execution_count": 67,
     "metadata": {},
     "output_type": "execute_result"
    }
   ],
   "source": [
    "sayhello(\"Zach\")"
   ]
  },
  {
   "cell_type": "code",
   "execution_count": 68,
   "id": "satisfactory-hands",
   "metadata": {},
   "outputs": [
    {
     "data": {
      "text/plain": [
       "'Hello, Zach!'"
      ]
     },
     "execution_count": 68,
     "metadata": {},
     "output_type": "execute_result"
    }
   ],
   "source": [
    "# we're specifying the keyword argument of name, here\n",
    "sayhello(name=\"Zach\")"
   ]
  },
  {
   "cell_type": "code",
   "execution_count": 69,
   "id": "involved-plastic",
   "metadata": {},
   "outputs": [
    {
     "data": {
      "text/plain": [
       "18"
      ]
     },
     "execution_count": 69,
     "metadata": {},
     "output_type": "execute_result"
    }
   ],
   "source": [
    "def addstuff(a=1, b=2, c=3):\n",
    "    return a + b + c\n",
    "\n",
    "addstuff(5, 6, 7)"
   ]
  },
  {
   "cell_type": "code",
   "execution_count": 70,
   "id": "plastic-prior",
   "metadata": {},
   "outputs": [
    {
     "data": {
      "text/plain": [
       "6666446"
      ]
     },
     "execution_count": 70,
     "metadata": {},
     "output_type": "execute_result"
    }
   ],
   "source": [
    "addstuff(c=6666443)"
   ]
  },
  {
   "cell_type": "code",
   "execution_count": 71,
   "id": "fancy-monster",
   "metadata": {},
   "outputs": [],
   "source": [
    "def repeat_string(string=\"Hello\", repeat=3):\n",
    "    \"\"\"\n",
    "    Returns a given string repeated a specific number of times.\n",
    "    Default arguments are string=\"Hello\", repeat=3\n",
    "    \"\"\"\n",
    "    return string * repeat"
   ]
  },
  {
   "cell_type": "code",
   "execution_count": 72,
   "id": "manual-soundtrack",
   "metadata": {},
   "outputs": [
    {
     "data": {
      "text/plain": [
       "'HelloHelloHello'"
      ]
     },
     "execution_count": 72,
     "metadata": {},
     "output_type": "execute_result"
    }
   ],
   "source": [
    "repeat_string()"
   ]
  },
  {
   "cell_type": "code",
   "execution_count": 73,
   "id": "unusual-angle",
   "metadata": {},
   "outputs": [
    {
     "data": {
      "text/plain": [
       "'coolcoolcoolcoolcool'"
      ]
     },
     "execution_count": 73,
     "metadata": {},
     "output_type": "execute_result"
    }
   ],
   "source": [
    "repeat_string(\"cool\", 5)"
   ]
  },
  {
   "cell_type": "code",
   "execution_count": 74,
   "id": "expired-concrete",
   "metadata": {},
   "outputs": [
    {
     "data": {
      "text/plain": [
       "'AlrightAlrightAlright'"
      ]
     },
     "execution_count": 74,
     "metadata": {},
     "output_type": "execute_result"
    }
   ],
   "source": [
    "repeat_string(\"Alright\")"
   ]
  },
  {
   "cell_type": "code",
   "execution_count": 75,
   "id": "remarkable-highlight",
   "metadata": {},
   "outputs": [
    {
     "data": {
      "text/plain": [
       "15"
      ]
     },
     "execution_count": 75,
     "metadata": {},
     "output_type": "execute_result"
    }
   ],
   "source": [
    "repeat_string(5)"
   ]
  },
  {
   "cell_type": "code",
   "execution_count": 76,
   "id": "disabled-reform",
   "metadata": {},
   "outputs": [
    {
     "data": {
      "text/plain": [
       "'HelloHello'"
      ]
     },
     "execution_count": 76,
     "metadata": {},
     "output_type": "execute_result"
    }
   ],
   "source": [
    "repeat_string(repeat=2)"
   ]
  },
  {
   "cell_type": "code",
   "execution_count": 77,
   "id": "concrete-niagara",
   "metadata": {},
   "outputs": [
    {
     "data": {
      "text/plain": [
       "'AhoyAhoy'"
      ]
     },
     "execution_count": 77,
     "metadata": {},
     "output_type": "execute_result"
    }
   ],
   "source": [
    "repeat_string(repeat=2, string=\"Ahoy\")"
   ]
  },
  {
   "cell_type": "code",
   "execution_count": 78,
   "id": "included-orange",
   "metadata": {},
   "outputs": [
    {
     "data": {
      "text/plain": [
       "'CoolCoolCoolCool'"
      ]
     },
     "execution_count": 78,
     "metadata": {},
     "output_type": "execute_result"
    }
   ],
   "source": [
    "x = [4, \"Cool\"]\n",
    "repeat_string(*x)"
   ]
  },
  {
   "cell_type": "code",
   "execution_count": 79,
   "id": "arbitrary-status",
   "metadata": {},
   "outputs": [
    {
     "data": {
      "text/plain": [
       "'CodeupCodeupCodeupCodeupCodeup'"
      ]
     },
     "execution_count": 79,
     "metadata": {},
     "output_type": "execute_result"
    }
   ],
   "source": [
    "kwargs = {'repeat': 5, 'string': 'Codeup'}\n",
    "repeat_string(**kwargs)"
   ]
  },
  {
   "cell_type": "code",
   "execution_count": 80,
   "id": "appropriate-glossary",
   "metadata": {},
   "outputs": [
    {
     "data": {
      "text/plain": [
       "dict_keys(['repeat', 'string'])"
      ]
     },
     "execution_count": 80,
     "metadata": {},
     "output_type": "execute_result"
    }
   ],
   "source": [
    "kwargs.keys()"
   ]
  },
  {
   "cell_type": "code",
   "execution_count": 81,
   "id": "ideal-suggestion",
   "metadata": {},
   "outputs": [
    {
     "data": {
      "text/plain": [
       "dict_values([5, 'Codeup'])"
      ]
     },
     "execution_count": 81,
     "metadata": {},
     "output_type": "execute_result"
    }
   ],
   "source": [
    "kwargs.values()"
   ]
  },
  {
   "cell_type": "code",
   "execution_count": 82,
   "id": "another-economy",
   "metadata": {},
   "outputs": [],
   "source": [
    "# More on scope\n",
    "favorite_programming_language = \"Python\"\n",
    "\n",
    "def output_language():\n",
    "    \"\"\"\n",
    "    Impure function b/c it relies on a global variable (something not its actual input)\n",
    "    \"\"\"\n",
    "    language_output = \"My favorite programming language is \" + favorite_programming_language\n",
    "    return language_output\n"
   ]
  },
  {
   "cell_type": "code",
   "execution_count": 83,
   "id": "variable-substance",
   "metadata": {},
   "outputs": [
    {
     "data": {
      "text/plain": [
       "'My favorite programming language is Python'"
      ]
     },
     "execution_count": 83,
     "metadata": {},
     "output_type": "execute_result"
    }
   ],
   "source": [
    "output_language()"
   ]
  },
  {
   "cell_type": "code",
   "execution_count": 84,
   "id": "chronic-integration",
   "metadata": {},
   "outputs": [
    {
     "ename": "NameError",
     "evalue": "name 'language_output' is not defined",
     "output_type": "error",
     "traceback": [
      "\u001b[0;31m---------------------------------------------------------------------------\u001b[0m",
      "\u001b[0;31mNameError\u001b[0m                                 Traceback (most recent call last)",
      "\u001b[0;32m<ipython-input-84-7514d38ff43a>\u001b[0m in \u001b[0;36m<module>\u001b[0;34m\u001b[0m\n\u001b[1;32m      1\u001b[0m \u001b[0;31m# From outside of a function definition, we are not able to access the scope of the inside of a function\u001b[0m\u001b[0;34m\u001b[0m\u001b[0;34m\u001b[0m\u001b[0;34m\u001b[0m\u001b[0m\n\u001b[0;32m----> 2\u001b[0;31m \u001b[0mlanguage_output\u001b[0m\u001b[0;34m\u001b[0m\u001b[0;34m\u001b[0m\u001b[0m\n\u001b[0m",
      "\u001b[0;31mNameError\u001b[0m: name 'language_output' is not defined"
     ]
    }
   ],
   "source": [
    "# From outside of a function definition, we are not able to access the scope of the inside of a function\n",
    "language_output"
   ]
  },
  {
   "cell_type": "code",
   "execution_count": 85,
   "id": "indian-modern",
   "metadata": {},
   "outputs": [],
   "source": [
    "def add(a, b):\n",
    "    \"\"\" \n",
    "    Functions that rely only on their explicitly passed inputs\n",
    "    and return a predictable/consistent output based only on those inputs \n",
    "    is called a \"pure\" function\n",
    "    \"\"\"\n",
    "    return a + b"
   ]
  },
  {
   "cell_type": "code",
   "execution_count": null,
   "id": "regulation-dialogue",
   "metadata": {},
   "outputs": [],
   "source": []
  },
  {
   "cell_type": "code",
   "execution_count": null,
   "id": "spoken-decade",
   "metadata": {},
   "outputs": [],
   "source": []
  }
 ],
 "metadata": {
  "kernelspec": {
   "display_name": "Python 3",
   "language": "python",
   "name": "python3"
  },
  "language_info": {
   "codemirror_mode": {
    "name": "ipython",
    "version": 3
   },
   "file_extension": ".py",
   "mimetype": "text/x-python",
   "name": "python",
   "nbconvert_exporter": "python",
   "pygments_lexer": "ipython3",
   "version": "3.7.3"
  }
 },
 "nbformat": 4,
 "nbformat_minor": 5
}
