{
 "cells": [
  {
   "cell_type": "markdown",
   "metadata": {},
   "source": [
    "## Control Structures"
   ]
  },
  {
   "cell_type": "code",
   "execution_count": 6,
   "metadata": {},
   "outputs": [
    {
     "name": "stdout",
     "output_type": "stream",
     "text": [
      "hi\n"
     ]
    }
   ],
   "source": [
    "# if statement structure\n",
    "if (True):\n",
    "    print('hi')"
   ]
  },
  {
   "cell_type": "code",
   "execution_count": 7,
   "metadata": {},
   "outputs": [],
   "source": [
    "if (False):\n",
    "    print('hi')"
   ]
  },
  {
   "cell_type": "code",
   "execution_count": 8,
   "metadata": {},
   "outputs": [],
   "source": [
    "if 0 < 0:\n",
    "    print('nope')"
   ]
  },
  {
   "cell_type": "code",
   "execution_count": 9,
   "metadata": {},
   "outputs": [
    {
     "name": "stdout",
     "output_type": "stream",
     "text": [
      "nope\n"
     ]
    }
   ],
   "source": [
    "if 0 == 0:\n",
    "    print('nope')"
   ]
  },
  {
   "cell_type": "code",
   "execution_count": 10,
   "metadata": {},
   "outputs": [],
   "source": [
    "# \n",
    "# \n",
    "#  if / else\n",
    "# \n",
    "# "
   ]
  },
  {
   "cell_type": "code",
   "execution_count": 16,
   "metadata": {},
   "outputs": [],
   "source": [
    "geek_status = True"
   ]
  },
  {
   "cell_type": "code",
   "execution_count": 17,
   "metadata": {},
   "outputs": [
    {
     "name": "stdout",
     "output_type": "stream",
     "text": [
      "haha nerd\n",
      "anything else\n"
     ]
    }
   ],
   "source": [
    "if geek_status:\n",
    "    print('haha nerd')\n",
    "else:\n",
    "    print('normie')\n",
    "print('anything else')"
   ]
  },
  {
   "cell_type": "code",
   "execution_count": 22,
   "metadata": {},
   "outputs": [],
   "source": [
    "beverage_of_choice = 'lacroix'"
   ]
  },
  {
   "cell_type": "code",
   "execution_count": 23,
   "metadata": {},
   "outputs": [
    {
     "name": "stdout",
     "output_type": "stream",
     "text": [
      "more of a hydration person, huh?\n"
     ]
    }
   ],
   "source": [
    "if beverage_of_choice == 'tea':\n",
    "    print('not big on caffeine?')\n",
    "elif beverage_of_choice == 'monster energy':\n",
    "    print('whoa slow down')\n",
    "elif beverage_of_choice == 'coffee':\n",
    "    print('ayyyyy')\n",
    "elif beverage_of_choice in ['water', 'lacroix', 'topo chico']:\n",
    "    print('more of a hydration person, huh?')\n",
    "else:\n",
    "    print('i dont know anything about that')"
   ]
  },
  {
   "cell_type": "code",
   "execution_count": 24,
   "metadata": {},
   "outputs": [],
   "source": [
    "# \n",
    "# \n",
    "# for loops\n",
    "# \n",
    "# "
   ]
  },
  {
   "cell_type": "code",
   "execution_count": 26,
   "metadata": {},
   "outputs": [
    {
     "name": "stdout",
     "output_type": "stream",
     "text": [
      "0\n",
      "1\n",
      "2\n",
      "3\n",
      "4\n",
      "5\n",
      "6\n",
      "7\n",
      "8\n",
      "9\n"
     ]
    }
   ],
   "source": [
    "for n in range(10):\n",
    "    print(n)"
   ]
  },
  {
   "cell_type": "code",
   "execution_count": 27,
   "metadata": {},
   "outputs": [
    {
     "name": "stdout",
     "output_type": "stream",
     "text": [
      "1\n",
      "3\n",
      "5\n",
      "7\n",
      "9\n"
     ]
    }
   ],
   "source": [
    "for n in range(1,10,2):\n",
    "    print(n)"
   ]
  },
  {
   "cell_type": "code",
   "execution_count": 29,
   "metadata": {},
   "outputs": [],
   "source": [
    "fruits = ['apple', 'banana', 'cherry', 'grapefruit', 'orange']"
   ]
  },
  {
   "cell_type": "code",
   "execution_count": 30,
   "metadata": {},
   "outputs": [
    {
     "data": {
      "text/plain": [
       "'apple'"
      ]
     },
     "execution_count": 30,
     "metadata": {},
     "output_type": "execute_result"
    }
   ],
   "source": [
    "fruits[0]"
   ]
  },
  {
   "cell_type": "code",
   "execution_count": 31,
   "metadata": {},
   "outputs": [
    {
     "data": {
      "text/plain": [
       "'cherry'"
      ]
     },
     "execution_count": 31,
     "metadata": {},
     "output_type": "execute_result"
    }
   ],
   "source": [
    "fruits[2]"
   ]
  },
  {
   "cell_type": "code",
   "execution_count": 33,
   "metadata": {},
   "outputs": [
    {
     "name": "stdout",
     "output_type": "stream",
     "text": [
      "0\n",
      "apple\n",
      "apple\n",
      "1\n",
      "banana\n",
      "banana\n",
      "2\n",
      "cherry\n",
      "cherry\n",
      "3\n",
      "grapefruit\n",
      "grapefruit\n",
      "4\n",
      "orange\n",
      "orange\n"
     ]
    }
   ],
   "source": [
    "for i, el in enumerate(fruits):\n",
    "    print(i)\n",
    "    print(el)\n",
    "    print(fruits[i])"
   ]
  },
  {
   "cell_type": "code",
   "execution_count": 34,
   "metadata": {},
   "outputs": [],
   "source": [
    "# continue or break"
   ]
  },
  {
   "cell_type": "code",
   "execution_count": 35,
   "metadata": {},
   "outputs": [
    {
     "name": "stdout",
     "output_type": "stream",
     "text": [
      "boring\n",
      "boring\n",
      "boring\n",
      "tangy\n"
     ]
    }
   ],
   "source": [
    "citrus = ['grapefruit', 'orange', 'lemon']\n",
    "for fruit in fruits:\n",
    "    if fruit in citrus:\n",
    "        print('tangy')\n",
    "        break\n",
    "    else:\n",
    "        print('boring')"
   ]
  },
  {
   "cell_type": "code",
   "execution_count": 36,
   "metadata": {},
   "outputs": [
    {
     "data": {
      "text/plain": [
       "['apple', 'banana', 'cherry', 'grapefruit', 'orange']"
      ]
     },
     "execution_count": 36,
     "metadata": {},
     "output_type": "execute_result"
    }
   ],
   "source": [
    "fruits"
   ]
  },
  {
   "cell_type": "code",
   "execution_count": null,
   "metadata": {},
   "outputs": [],
   "source": [
    "# \n",
    "# \n",
    "# While Loops:\n",
    "# \n",
    "# "
   ]
  },
  {
   "cell_type": "code",
   "execution_count": null,
   "metadata": {},
   "outputs": [],
   "source": [
    "patience = ''\n",
    "while patience != 'please stop':\n",
    "    patience = input('Hi buddy how\\'s it going')"
   ]
  },
  {
   "cell_type": "code",
   "execution_count": null,
   "metadata": {},
   "outputs": [],
   "source": [
    "# \n",
    "# Break & continue\n",
    "# \n",
    "# "
   ]
  },
  {
   "cell_type": "code",
   "execution_count": 37,
   "metadata": {},
   "outputs": [
    {
     "name": "stdin",
     "output_type": "stream",
     "text": [
      "hey hows it going  klajsdf\n",
      "hey hows it going  aklsdjf;las\n",
      "hey hows it going  2342\n",
      "hey hows it going  ji;lj\n",
      "hey hows it going  kjkl\n",
      "hey hows it going  lkjj;lk\n",
      "hey hows it going  jlkj\n",
      "hey hows it going  lkkjj;lj\n",
      "hey hows it going  lk\n",
      "hey hows it going  jsijdf\n",
      "hey hows it going  werija\n",
      "hey hows it going  please stop\n"
     ]
    }
   ],
   "source": [
    "while True:\n",
    "    some_string = input('hey hows it going ')\n",
    "    if some_string == 'please stop':\n",
    "        break"
   ]
  },
  {
   "cell_type": "code",
   "execution_count": 41,
   "metadata": {},
   "outputs": [
    {
     "name": "stdout",
     "output_type": "stream",
     "text": [
      "not citrus\n",
      "not citrus\n",
      "not citrus\n",
      "sour\n",
      "see this?\n",
      "sour\n",
      "see this?\n"
     ]
    }
   ],
   "source": [
    "citrus = ['grapefruit', 'orange', 'lemon']\n",
    "for fruit in fruits:\n",
    "    if fruit not in citrus:\n",
    "        print('not citrus')\n",
    "        continue\n",
    "    else:\n",
    "        print('sour')\n",
    "    print('see this?')"
   ]
  },
  {
   "cell_type": "code",
   "execution_count": null,
   "metadata": {},
   "outputs": [],
   "source": []
  }
 ],
 "metadata": {
  "kernelspec": {
   "display_name": "Python 3",
   "language": "python",
   "name": "python3"
  },
  "language_info": {
   "codemirror_mode": {
    "name": "ipython",
    "version": 3
   },
   "file_extension": ".py",
   "mimetype": "text/x-python",
   "name": "python",
   "nbconvert_exporter": "python",
   "pygments_lexer": "ipython3",
   "version": "3.8.2"
  }
 },
 "nbformat": 4,
 "nbformat_minor": 4
}
