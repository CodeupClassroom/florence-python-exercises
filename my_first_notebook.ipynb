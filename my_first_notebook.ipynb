{
 "cells": [
  {
   "cell_type": "markdown",
   "id": "initial-bhutan",
   "metadata": {},
   "source": [
    "# Welcome to this Demo Notebook!\n",
    "\n",
    "\n",
    "## Intro to Python"
   ]
  },
  {
   "cell_type": "code",
   "execution_count": 1,
   "id": "formed-lobby",
   "metadata": {},
   "outputs": [
    {
     "data": {
      "text/plain": [
       "7"
      ]
     },
     "execution_count": 1,
     "metadata": {},
     "output_type": "execute_result"
    }
   ],
   "source": [
    "2 + 5"
   ]
  },
  {
   "cell_type": "markdown",
   "id": "smoking-webmaster",
   "metadata": {},
   "source": [
    "- Enter key will enter into edit mode for a cell, if the cell is highlighted\n",
    "- command + shift + p brings up the command palette\n",
    "- Esc key puts us into a command mode\n",
    "- Shift + Enter runs a cell of Python code or renders a cell of markdown (for markdown cells)\n",
    "- Esc for command mode, then the H key to show all shortcuts"
   ]
  },
  {
   "cell_type": "code",
   "execution_count": 1,
   "id": "republican-stupid",
   "metadata": {},
   "outputs": [
    {
     "data": {
      "text/plain": [
       "9"
      ]
     },
     "execution_count": 1,
     "metadata": {},
     "output_type": "execute_result"
    }
   ],
   "source": [
    "3 + 6"
   ]
  },
  {
   "cell_type": "code",
   "execution_count": 2,
   "id": "crazy-ceramic",
   "metadata": {},
   "outputs": [
    {
     "data": {
      "text/plain": [
       "32"
      ]
     },
     "execution_count": 2,
     "metadata": {},
     "output_type": "execute_result"
    }
   ],
   "source": [
    "32"
   ]
  },
  {
   "cell_type": "code",
   "execution_count": 3,
   "id": "built-positive",
   "metadata": {},
   "outputs": [
    {
     "data": {
      "text/plain": [
       "12"
      ]
     },
     "execution_count": 3,
     "metadata": {},
     "output_type": "execute_result"
    }
   ],
   "source": [
    "12"
   ]
  },
  {
   "cell_type": "code",
   "execution_count": null,
   "id": "olive-settle",
   "metadata": {},
   "outputs": [],
   "source": []
  }
 ],
 "metadata": {
  "kernelspec": {
   "display_name": "Python 3",
   "language": "python",
   "name": "python3"
  },
  "language_info": {
   "codemirror_mode": {
    "name": "ipython",
    "version": 3
   },
   "file_extension": ".py",
   "mimetype": "text/x-python",
   "name": "python",
   "nbconvert_exporter": "python",
   "pygments_lexer": "ipython3",
   "version": "3.7.3"
  }
 },
 "nbformat": 4,
 "nbformat_minor": 5
}
