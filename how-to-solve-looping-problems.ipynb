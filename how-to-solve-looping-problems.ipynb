{
 "cells": [
  {
   "cell_type": "markdown",
   "id": "compact-spotlight",
   "metadata": {},
   "source": [
    "# One Weird Trick to Solving Looping Problems\n",
    "> Blow off the loop"
   ]
  },
  {
   "cell_type": "code",
   "execution_count": 1,
   "id": "contrary-switzerland",
   "metadata": {},
   "outputs": [],
   "source": [
    "students = [\n",
    "    {\n",
    "        \"id\": \"100001\",\n",
    "        \"student\": \"Ada Lovelace\",\n",
    "        \"coffee_preference\": \"light\",\n",
    "        \"course\": \"web development\",\n",
    "        \"grades\": [70, 91, 82, 71],\n",
    "        \"pets\": [{\"species\": \"horse\", \"age\": 8}],\n",
    "    },\n",
    "    {\n",
    "        \"id\": \"100002\",\n",
    "        \"student\": \"Thomas Bayes\",\n",
    "        \"coffee_preference\": \"medium\",\n",
    "        \"course\": \"data science\",\n",
    "        \"grades\": [75, 73, 86, 100],\n",
    "        \"pets\": [],\n",
    "    },\n",
    "    {\n",
    "        \"id\": \"100003\",\n",
    "        \"student\": \"Marie Curie\",\n",
    "        \"coffee_preference\": \"light\",\n",
    "        \"course\": \"web development\",\n",
    "        \"grades\": [70, 89, 69, 65],\n",
    "        \"pets\": [{\"species\": \"cat\", \"age\": 0}],\n",
    "    },\n",
    "    {\n",
    "        \"id\": \"100004\",\n",
    "        \"student\": \"Grace Hopper\",\n",
    "        \"coffee_preference\": \"dark\",\n",
    "        \"course\": \"data science\",\n",
    "        \"grades\": [73, 66, 83, 92],\n",
    "        \"pets\": [{\"species\": \"dog\", \"age\": 4}, {\"species\": \"cat\", \"age\": 4}],\n",
    "    },\n",
    "    {\n",
    "        \"id\": \"100005\",\n",
    "        \"student\": \"Alan Turing\",\n",
    "        \"coffee_preference\": \"dark\",\n",
    "        \"course\": \"web development\",\n",
    "        \"grades\": [78, 98, 85, 65],\n",
    "        \"pets\": [\n",
    "            {\"species\": \"horse\", \"age\": 6},\n",
    "            {\"species\": \"horse\", \"age\": 7},\n",
    "            {\"species\": \"dog\", \"age\": 5},\n",
    "        ],\n",
    "    },\n",
    "    {\n",
    "        \"id\": \"100006\",\n",
    "        \"student\": \"Rosalind Franklin\",\n",
    "        \"coffee_preference\": \"dark\",\n",
    "        \"course\": \"data science\",\n",
    "        \"grades\": [76, 70, 96, 81],\n",
    "        \"pets\": [],\n",
    "    },\n",
    "    {\n",
    "        \"id\": \"100007\",\n",
    "        \"student\": \"Elizabeth Blackwell\",\n",
    "        \"coffee_preference\": \"dark\",\n",
    "        \"course\": \"web development\",\n",
    "        \"grades\": [69, 94, 89, 86],\n",
    "        \"pets\": [{\"species\": \"cat\", \"age\": 10}],\n",
    "    },\n",
    "    {\n",
    "        \"id\": \"100008\",\n",
    "        \"student\": \"Rene Descartes\",\n",
    "        \"coffee_preference\": \"medium\",\n",
    "        \"course\": \"data science\",\n",
    "        \"grades\": [87, 79, 90, 99],\n",
    "        \"pets\": [{\"species\": \"cat\", \"age\": 10}, {\"species\": \"cat\", \"age\": 8}],\n",
    "    },\n",
    "    {\n",
    "        \"id\": \"100009\",\n",
    "        \"student\": \"Ahmed Zewail\",\n",
    "        \"coffee_preference\": \"medium\",\n",
    "        \"course\": \"data science\",\n",
    "        \"grades\": [74, 99, 93, 89],\n",
    "        \"pets\": [{\"species\": \"cat\", \"age\": 0}, {\"species\": \"cat\", \"age\": 0}],\n",
    "    },\n",
    "    {\n",
    "        \"id\": \"100010\",\n",
    "        \"student\": \"Chien-Shiung Wu\",\n",
    "        \"coffee_preference\": \"medium\",\n",
    "        \"course\": \"web development\",\n",
    "        \"grades\": [82, 92, 91, 65],\n",
    "        \"pets\": [{\"species\": \"cat\", \"age\": 8}],\n",
    "    },\n",
    "    {\n",
    "        \"id\": \"100011\",\n",
    "        \"student\": \"William Sanford Nye\",\n",
    "        \"coffee_preference\": \"dark\",\n",
    "        \"course\": \"data science\",\n",
    "        \"grades\": [70, 92, 65, 99],\n",
    "        \"pets\": [{\"species\": \"cat\", \"age\": 8}, {\"species\": \"cat\", \"age\": 5}],\n",
    "    },\n",
    "    {\n",
    "        \"id\": \"100012\",\n",
    "        \"student\": \"Carl Sagan\",\n",
    "        \"coffee_preference\": \"medium\",\n",
    "        \"course\": \"data science\",\n",
    "        \"grades\": [100, 86, 91, 87],\n",
    "        \"pets\": [{\"species\": \"cat\", \"age\": 10}],\n",
    "    },\n",
    "    {\n",
    "        \"id\": \"100013\",\n",
    "        \"student\": \"Jane Goodall\",\n",
    "        \"coffee_preference\": \"light\",\n",
    "        \"course\": \"web development\",\n",
    "        \"grades\": [80, 70, 68, 98],\n",
    "        \"pets\": [{\"species\": \"horse\", \"age\": 4}],\n",
    "    },\n",
    "    {\n",
    "        \"id\": \"100014\",\n",
    "        \"student\": \"Richard Feynman\",\n",
    "        \"coffee_preference\": \"medium\",\n",
    "        \"course\": \"web development\",\n",
    "        \"grades\": [73, 99, 86, 98],\n",
    "        \"pets\": [{\"species\": \"dog\", \"age\": 6}],\n",
    "    },\n",
    "]"
   ]
  },
  {
   "cell_type": "markdown",
   "id": "assigned-science",
   "metadata": {},
   "source": [
    "### Exercise\n",
    "How many pets does each student have?"
   ]
  },
  {
   "cell_type": "code",
   "execution_count": 2,
   "id": "structured-picking",
   "metadata": {},
   "outputs": [
    {
     "data": {
      "text/plain": [
       "{'id': '100001',\n",
       " 'student': 'Ada Lovelace',\n",
       " 'coffee_preference': 'light',\n",
       " 'course': 'web development',\n",
       " 'grades': [70, 91, 82, 71],\n",
       " 'pets': [{'species': 'horse', 'age': 8}]}"
      ]
     },
     "execution_count": 2,
     "metadata": {},
     "output_type": "execute_result"
    }
   ],
   "source": [
    "# Step 0 = blow off the loop\n",
    "# Step 1 = create a variable to hold the first item from the list\n",
    "student = students[0]\n",
    "student"
   ]
  },
  {
   "cell_type": "code",
   "execution_count": 3,
   "id": "damaged-citizenship",
   "metadata": {},
   "outputs": [],
   "source": [
    "# Reducing cognitive overhead == fancy term for making things easier and keeping less moving pieces in your head\n",
    "# Now that we don't have the loop, we go to solve the original problem for only our variable"
   ]
  },
  {
   "cell_type": "code",
   "execution_count": 4,
   "id": "tired-heart",
   "metadata": {},
   "outputs": [
    {
     "data": {
      "text/plain": [
       "dict"
      ]
     },
     "execution_count": 4,
     "metadata": {},
     "output_type": "execute_result"
    }
   ],
   "source": [
    "# How do we determine how many pets Ada Lovelace has?\n",
    "type(student)"
   ]
  },
  {
   "cell_type": "code",
   "execution_count": 5,
   "id": "inside-degree",
   "metadata": {},
   "outputs": [
    {
     "data": {
      "text/plain": [
       "[{'species': 'horse', 'age': 8}]"
      ]
     },
     "execution_count": 5,
     "metadata": {},
     "output_type": "execute_result"
    }
   ],
   "source": [
    "student[\"pets\"]"
   ]
  },
  {
   "cell_type": "code",
   "execution_count": 6,
   "id": "understanding-touch",
   "metadata": {},
   "outputs": [
    {
     "data": {
      "text/plain": [
       "list"
      ]
     },
     "execution_count": 6,
     "metadata": {},
     "output_type": "execute_result"
    }
   ],
   "source": [
    "type(student[\"pets\"])"
   ]
  },
  {
   "cell_type": "code",
   "execution_count": 7,
   "id": "employed-wholesale",
   "metadata": {},
   "outputs": [
    {
     "data": {
      "text/plain": [
       "1"
      ]
     },
     "execution_count": 7,
     "metadata": {},
     "output_type": "execute_result"
    }
   ],
   "source": [
    "len(student[\"pets\"])"
   ]
  },
  {
   "cell_type": "code",
   "execution_count": 8,
   "id": "tropical-swiss",
   "metadata": {},
   "outputs": [
    {
     "data": {
      "text/plain": [
       "1"
      ]
     },
     "execution_count": 8,
     "metadata": {},
     "output_type": "execute_result"
    }
   ],
   "source": [
    "number_of_pets = len(student[\"pets\"])\n",
    "number_of_pets"
   ]
  },
  {
   "cell_type": "code",
   "execution_count": 9,
   "id": "angry-exposure",
   "metadata": {},
   "outputs": [
    {
     "name": "stdout",
     "output_type": "stream",
     "text": [
      "Ada Lovelace has 1 pet(s)\n"
     ]
    }
   ],
   "source": [
    "print(f\"{student['student']} has {number_of_pets} pet(s)\")"
   ]
  },
  {
   "cell_type": "code",
   "execution_count": 10,
   "id": "grateful-neutral",
   "metadata": {
    "scrolled": true
   },
   "outputs": [
    {
     "name": "stdout",
     "output_type": "stream",
     "text": [
      "Ada Lovelace has 1 pet(s)\n"
     ]
    }
   ],
   "source": [
    "# Let's put this all in one cell\n",
    "number_of_pets = len(student[\"pets\"])\n",
    "print(f\"{student['student']} has {number_of_pets} pet(s)\")"
   ]
  },
  {
   "cell_type": "code",
   "execution_count": 11,
   "id": "individual-savings",
   "metadata": {},
   "outputs": [
    {
     "name": "stdout",
     "output_type": "stream",
     "text": [
      "Ada Lovelace has 1 pet(s)\n",
      "Thomas Bayes has 0 pet(s)\n",
      "Marie Curie has 1 pet(s)\n",
      "Grace Hopper has 2 pet(s)\n",
      "Alan Turing has 3 pet(s)\n",
      "Rosalind Franklin has 0 pet(s)\n",
      "Elizabeth Blackwell has 1 pet(s)\n",
      "Rene Descartes has 2 pet(s)\n",
      "Ahmed Zewail has 2 pet(s)\n",
      "Chien-Shiung Wu has 1 pet(s)\n",
      "William Sanford Nye has 2 pet(s)\n",
      "Carl Sagan has 1 pet(s)\n",
      "Jane Goodall has 1 pet(s)\n",
      "Richard Feynman has 1 pet(s)\n"
     ]
    }
   ],
   "source": [
    "for student in students:\n",
    "    number_of_pets = len(student[\"pets\"])\n",
    "    print(f\"{student['student']} has {number_of_pets} pet(s)\")"
   ]
  },
  {
   "cell_type": "code",
   "execution_count": 12,
   "id": "center-allah",
   "metadata": {},
   "outputs": [
    {
     "name": "stdout",
     "output_type": "stream",
     "text": [
      "Ada Lovelace has only 1 pet\n",
      "Thomas Bayes has no pets at all.\n",
      "Marie Curie has only 1 pet\n",
      "Grace Hopper has only 2 pets\n",
      "Alan Turing has only 3 pets\n",
      "Rosalind Franklin has no pets at all.\n",
      "Elizabeth Blackwell has only 1 pet\n",
      "Rene Descartes has only 2 pets\n",
      "Ahmed Zewail has only 2 pets\n",
      "Chien-Shiung Wu has only 1 pet\n",
      "William Sanford Nye has only 2 pets\n",
      "Carl Sagan has only 1 pet\n",
      "Jane Goodall has only 1 pet\n",
      "Richard Feynman has only 1 pet\n"
     ]
    }
   ],
   "source": [
    "for student in students:\n",
    "    number_of_pets = len(student[\"pets\"])\n",
    "    \n",
    "    if number_of_pets == 0:\n",
    "        print(f\"{student['student']} has no pets at all.\")\n",
    "    \n",
    "    if number_of_pets == 1:\n",
    "        print(f\"{student['student']} has only {number_of_pets} pet\")\n",
    "    \n",
    "    if number_of_pets > 1:\n",
    "        print(f\"{student['student']} has only {number_of_pets} pets\")"
   ]
  },
  {
   "cell_type": "code",
   "execution_count": 13,
   "id": "equal-lobby",
   "metadata": {},
   "outputs": [
    {
     "data": {
      "text/plain": [
       "5"
      ]
     },
     "execution_count": 13,
     "metadata": {},
     "output_type": "execute_result"
    }
   ],
   "source": [
    "number = 5\n",
    "number"
   ]
  },
  {
   "cell_type": "code",
   "execution_count": 14,
   "id": "expired-wales",
   "metadata": {},
   "outputs": [
    {
     "data": {
      "text/plain": [
       "[3, 3, 3, 4, 4, 4, 4, 5, 5, 5, 5, 5, 6, 7, 8, 9, 10]"
      ]
     },
     "execution_count": 14,
     "metadata": {},
     "output_type": "execute_result"
    }
   ],
   "source": [
    "numbers = [3, 3, 3, 4, 4, 4, 4, 5, 5, 5, 5, 5, 6, 7, 8, 9, 10]\n",
    "numbers"
   ]
  },
  {
   "cell_type": "code",
   "execution_count": 15,
   "id": "voluntary-supply",
   "metadata": {
    "scrolled": true
   },
   "outputs": [
    {
     "name": "stdout",
     "output_type": "stream",
     "text": [
      "3\n",
      "3\n",
      "3\n",
      "4\n",
      "4\n",
      "4\n",
      "4\n",
      "5\n",
      "5\n",
      "5\n",
      "5\n",
      "5\n",
      "6\n",
      "7\n",
      "8\n",
      "9\n",
      "10\n"
     ]
    }
   ],
   "source": [
    "for number in numbers:\n",
    "    print(number)"
   ]
  },
  {
   "cell_type": "code",
   "execution_count": 16,
   "id": "pretty-advertiser",
   "metadata": {},
   "outputs": [
    {
     "data": {
      "text/plain": [
       "10"
      ]
     },
     "execution_count": 16,
     "metadata": {},
     "output_type": "execute_result"
    }
   ],
   "source": [
    "number"
   ]
  },
  {
   "cell_type": "code",
   "execution_count": 17,
   "id": "western-large",
   "metadata": {},
   "outputs": [],
   "source": [
    "# First time through the for loop\n",
    "number = numbers[0]\n",
    "# Second time through the loop\n",
    "number = numbers[1]\n",
    "# etc..."
   ]
  },
  {
   "cell_type": "code",
   "execution_count": null,
   "id": "advisory-criminal",
   "metadata": {},
   "outputs": [],
   "source": []
  }
 ],
 "metadata": {
  "kernelspec": {
   "display_name": "Python 3",
   "language": "python",
   "name": "python3"
  },
  "language_info": {
   "codemirror_mode": {
    "name": "ipython",
    "version": 3
   },
   "file_extension": ".py",
   "mimetype": "text/x-python",
   "name": "python",
   "nbconvert_exporter": "python",
   "pygments_lexer": "ipython3",
   "version": "3.7.3"
  }
 },
 "nbformat": 4,
 "nbformat_minor": 5
}
