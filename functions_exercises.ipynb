{
 "cells": [
  {
   "cell_type": "markdown",
   "id": "fitting-reunion",
   "metadata": {},
   "source": [
    "# Functions Exercises"
   ]
  },
  {
   "cell_type": "code",
   "execution_count": 1,
   "id": "wound-clarity",
   "metadata": {},
   "outputs": [],
   "source": [
    "# Exercise 1\n",
    "# Define a function named is_two. \n",
    "# It should accept one input and return True if \n",
    "# the passed input is either the number or the string 2, False otherwise.\n",
    "def is_two(x):\n",
    "    return x == 2 or x == \"2\"\n",
    "\n",
    "# assert actual value == expected value\n",
    "assert is_two(2) == True\n",
    "assert is_two(2.0) == True\n",
    "assert is_two(\"2\") == True\n",
    "assert is_two(5) == False\n",
    "assert is_two(10) == False\n",
    "assert is_two(\"coffee\") == False"
   ]
  },
  {
   "cell_type": "code",
   "execution_count": 2,
   "id": "fitting-hotel",
   "metadata": {},
   "outputs": [],
   "source": [
    "# Exercise 2\n",
    "# Define a function named is_vowel. \n",
    "# It should return True if the passed string is a vowel, False otherwise.\n",
    "def is_vowel(string):\n",
    "    if type(string) == str:\n",
    "        result = string.lower() in [\"a\", \"e\", \"i\", \"o\", \"u\"]\n",
    "        return result\n",
    "    else:\n",
    "        return False\n",
    "\n",
    "assert is_vowel(\"A\") == True\n",
    "assert is_vowel(\"E\") == True\n",
    "assert is_vowel(\"I\") == True\n",
    "assert is_vowel(\"O\") == True\n",
    "assert is_vowel(\"y\") == False\n",
    "assert is_vowel(\"aeiou\") == False # since the entire string aint a vowel\n",
    "assert is_vowel(\"p\") == False\n",
    "assert is_vowel([1, 2, 3]) == False\n",
    "assert is_vowel(\"q\") == False"
   ]
  },
  {
   "cell_type": "code",
   "execution_count": 3,
   "id": "wooden-clearance",
   "metadata": {},
   "outputs": [
    {
     "data": {
      "text/plain": [
       "False"
      ]
     },
     "execution_count": 3,
     "metadata": {},
     "output_type": "execute_result"
    }
   ],
   "source": [
    "\"aeiou12345\".isalpha()"
   ]
  },
  {
   "cell_type": "code",
   "execution_count": 4,
   "id": "earned-queen",
   "metadata": {},
   "outputs": [
    {
     "data": {
      "text/plain": [
       "True"
      ]
     },
     "execution_count": 4,
     "metadata": {},
     "output_type": "execute_result"
    }
   ],
   "source": [
    "\"qwertyuioplkjhgfdszxcvbnm\".isalpha()"
   ]
  },
  {
   "cell_type": "code",
   "execution_count": 5,
   "id": "possible-africa",
   "metadata": {},
   "outputs": [
    {
     "data": {
      "text/plain": [
       "False"
      ]
     },
     "execution_count": 5,
     "metadata": {},
     "output_type": "execute_result"
    }
   ],
   "source": [
    "\"*!%$\".isalpha()"
   ]
  },
  {
   "cell_type": "code",
   "execution_count": 6,
   "id": "affecting-repair",
   "metadata": {},
   "outputs": [],
   "source": [
    "# Exercise 3\n",
    "# Define a function named is_consonant. It should return True if the passed string is a consonant, False otherwise. Use your is_vowel function to accomplish this.\n",
    "\n",
    "def is_consonant(string):\n",
    "    if type(string) == str:\n",
    "        is_only_letters = string.isalpha()\n",
    "        return is_only_letters and not is_vowel(string)\n",
    "    else:\n",
    "        return False\n",
    "\n",
    "assert is_consonant(\"B\") == True\n",
    "assert is_consonant(\"y\") == True\n",
    "assert is_consonant(\"A\") == False\n",
    "assert is_consonant(\"E\") == False\n",
    "assert is_consonant(\"I\") == False\n",
    "assert is_consonant(\"O\") == False\n",
    "assert is_consonant(\"1\") == False\n",
    "assert is_consonant(\"2\") == False\n",
    "assert is_consonant(\"*\") == False\n",
    "assert is_consonant(\"+\") == False\n",
    "assert is_consonant([3, 4]) == False"
   ]
  },
  {
   "cell_type": "code",
   "execution_count": 7,
   "id": "martial-illustration",
   "metadata": {},
   "outputs": [],
   "source": [
    "# Exercise 4\n",
    "# Define a function that accepts a string that is a word. \n",
    "# The function should capitalize the first letter of the word if the word starts with a consonant.\n",
    "def capitalize_starting_consonant(string):\n",
    "    if type(string) != str:\n",
    "        return False\n",
    "    \n",
    "    first_letter = string[0]\n",
    "    if is_consonant(first_letter):\n",
    "        string = string.capitalize()\n",
    "    \n",
    "    return string\n",
    "\n",
    "assert capitalize_starting_consonant(\"coffee\") == \"Coffee\"\n",
    "assert capitalize_starting_consonant(\"another string\") == \"another string\""
   ]
  },
  {
   "cell_type": "code",
   "execution_count": 8,
   "id": "whole-forum",
   "metadata": {},
   "outputs": [],
   "source": [
    "# Exercise 5\n",
    "# Define a function named calculate_tip. \n",
    "# It should accept a tip percentage (a number between 0 and 1) and the bill total, and return the amount to tip.\n",
    "\n",
    "def calculate_tip(bill, tip_percentage = 0.2):\n",
    "    if tip_percentage < 0 or tip_percentage > 1:\n",
    "        return \"The tip percentage must be a value between 0 and 1\"\n",
    "    \n",
    "    tip_amount = tip_percentage * bill\n",
    "    return tip_amount\n",
    "\n",
    "assert calculate_tip(100, .25) == 25\n",
    "assert calculate_tip(100, .10) == 10"
   ]
  },
  {
   "cell_type": "code",
   "execution_count": 9,
   "id": "expected-conspiracy",
   "metadata": {},
   "outputs": [],
   "source": [
    "# Exercise 6\n",
    "# Define a function named apply_discount. It should accept a original price, and a discount percentage, \n",
    "# and return the price after the discount is applied.\n",
    "\n",
    "def apply_discount(price, discount_percentage):\n",
    "    discount = price * discount_percentage\n",
    "    return price - discount\n",
    "\n",
    "assert apply_discount(20, .5) == 10"
   ]
  },
  {
   "cell_type": "code",
   "execution_count": 10,
   "id": "comparative-bridge",
   "metadata": {},
   "outputs": [],
   "source": [
    "# Exercise 7\n",
    "# Define a function named handle_commas. It should accept a string that is a number that contains commas in it as input, \n",
    "# and return a number as output.\n",
    "def handle_commas(string):\n",
    "    if type(string) != str:\n",
    "        return \"Input must be a string.\"\n",
    "\n",
    "    return float(string.replace(\",\", \"\"))\n",
    "\n",
    "assert handle_commas(\"1,234\") == 1234\n",
    "assert handle_commas(\"1,234,456\") == 1234456\n",
    "assert handle_commas(\"1,234,456.99\") == 1234456.99"
   ]
  },
  {
   "cell_type": "code",
   "execution_count": 11,
   "id": "finished-perfume",
   "metadata": {},
   "outputs": [],
   "source": [
    "# Exercise 8\n",
    "# Define a function named get_letter_grade. It should accept a number and return the letter grade associated with that number (A-F).\n",
    "def get_letter_grade(grade):\n",
    "    if type(grade) == int or type(grade) == float:\n",
    "        if grade >= 90:\n",
    "            return \"A\"\n",
    "        elif grade >= 80:\n",
    "            return \"B\"\n",
    "        elif grade >= 70:\n",
    "            return \"C\"\n",
    "        elif grade >= 60:\n",
    "            return \"D\"\n",
    "        else:\n",
    "            return \"F\"\n",
    "    else:\n",
    "        return \"Input must be a number\"\n",
    "\n",
    "assert get_letter_grade(100) == \"A\"\n",
    "assert get_letter_grade(75) == \"C\""
   ]
  },
  {
   "cell_type": "code",
   "execution_count": 12,
   "id": "primary-plant",
   "metadata": {},
   "outputs": [
    {
     "name": "stdout",
     "output_type": "stream",
     "text": [
      "A\n",
      "B\n",
      "C\n"
     ]
    }
   ],
   "source": [
    "# NOT mutually exclusive, because x >= 90 is True AND x >= 80 is True\n",
    "x = 99\n",
    "if x >= 90:\n",
    "    print(\"A\")\n",
    "\n",
    "if x >= 80:\n",
    "    print(\"B\")\n",
    "\n",
    "if x >= 70:\n",
    "    print(\"C\")"
   ]
  },
  {
   "cell_type": "code",
   "execution_count": 13,
   "id": "wicked-cleveland",
   "metadata": {},
   "outputs": [
    {
     "name": "stdout",
     "output_type": "stream",
     "text": [
      "A\n"
     ]
    }
   ],
   "source": [
    "# What the heck is an else if?\n",
    "# if x >= 90:\n",
    "#     print(\"A\")\n",
    "# elif x >= 80:\n",
    "#     print(\"B\")\n",
    "# elif x >= 70:\n",
    "#     print(\"C\")\n",
    "\n",
    "# What's really going on with elsifs is a nesting, so that all of the ifs don't run\n",
    "if x >= 90:\n",
    "    print(\"A\")\n",
    "else:\n",
    "    if x >= 80:\n",
    "        print(\"B\")\n",
    "    else:\n",
    "        if x >= 70:\n",
    "            print(\"C\")"
   ]
  },
  {
   "cell_type": "code",
   "execution_count": 14,
   "id": "quiet-package",
   "metadata": {},
   "outputs": [],
   "source": [
    "# Exercise 9\n",
    "# Define a function named remove_vowels that accepts a string and returns a string with all the vowels removed.\n"
   ]
  },
  {
   "cell_type": "code",
   "execution_count": 15,
   "id": "seasonal-builder",
   "metadata": {},
   "outputs": [],
   "source": [
    "# Exercise 10\n",
    "# Define a function named normalize_name. It should accept a string and return a valid python identifier, that is:\n"
   ]
  },
  {
   "cell_type": "code",
   "execution_count": 16,
   "id": "solar-wayne",
   "metadata": {},
   "outputs": [],
   "source": [
    "# Exercise 11\n",
    "# Write a function named cumulative_sum that accepts a list of numbers and returns a list that is the cumulative sum of the numbers in the list.\n",
    "# cumulative_sum([1, 1, 1]) returns [1, 2, 3]\n",
    "# cumulative_sum([1, 2, 3, 4]) returns [1, 3, 6, 10]\n"
   ]
  }
 ],
 "metadata": {
  "kernelspec": {
   "display_name": "Python 3",
   "language": "python",
   "name": "python3"
  },
  "language_info": {
   "codemirror_mode": {
    "name": "ipython",
    "version": 3
   },
   "file_extension": ".py",
   "mimetype": "text/x-python",
   "name": "python",
   "nbconvert_exporter": "python",
   "pygments_lexer": "ipython3",
   "version": "3.7.3"
  }
 },
 "nbformat": 4,
 "nbformat_minor": 5
}
