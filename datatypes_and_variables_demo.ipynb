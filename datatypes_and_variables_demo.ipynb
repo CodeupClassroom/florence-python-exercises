{
 "cells": [
  {
   "cell_type": "code",
   "execution_count": 1,
   "id": "medical-clock",
   "metadata": {},
   "outputs": [],
   "source": [
    "x = 5\n"
   ]
  },
  {
   "cell_type": "code",
   "execution_count": 2,
   "id": "million-stevens",
   "metadata": {},
   "outputs": [
    {
     "data": {
      "text/plain": [
       "False"
      ]
     },
     "execution_count": 2,
     "metadata": {},
     "output_type": "execute_result"
    }
   ],
   "source": [
    "# Double equals is a comparison operator\n",
    "# Comparing the value on the left to the value on the right and returnting True/False\n",
    "x == 3"
   ]
  },
  {
   "cell_type": "code",
   "execution_count": 3,
   "id": "medical-highway",
   "metadata": {},
   "outputs": [
    {
     "data": {
      "text/plain": [
       "False"
      ]
     },
     "execution_count": 3,
     "metadata": {},
     "output_type": "execute_result"
    }
   ],
   "source": [
    "x == 4"
   ]
  },
  {
   "cell_type": "code",
   "execution_count": 4,
   "id": "silent-headset",
   "metadata": {},
   "outputs": [
    {
     "data": {
      "text/plain": [
       "True"
      ]
     },
     "execution_count": 4,
     "metadata": {},
     "output_type": "execute_result"
    }
   ],
   "source": [
    "x > 3"
   ]
  },
  {
   "cell_type": "code",
   "execution_count": 5,
   "id": "abroad-single",
   "metadata": {},
   "outputs": [
    {
     "data": {
      "text/plain": [
       "False"
      ]
     },
     "execution_count": 5,
     "metadata": {},
     "output_type": "execute_result"
    }
   ],
   "source": [
    "x < 2.999"
   ]
  },
  {
   "cell_type": "code",
   "execution_count": 6,
   "id": "spoken-single",
   "metadata": {},
   "outputs": [
    {
     "data": {
      "text/plain": [
       "True"
      ]
     },
     "execution_count": 6,
     "metadata": {},
     "output_type": "execute_result"
    }
   ],
   "source": [
    "2 == 2.0000"
   ]
  },
  {
   "cell_type": "code",
   "execution_count": 7,
   "id": "italian-ordinary",
   "metadata": {},
   "outputs": [
    {
     "data": {
      "text/plain": [
       "False"
      ]
     },
     "execution_count": 7,
     "metadata": {},
     "output_type": "execute_result"
    }
   ],
   "source": [
    "1 == 2"
   ]
  },
  {
   "cell_type": "code",
   "execution_count": 8,
   "id": "rural-consciousness",
   "metadata": {},
   "outputs": [
    {
     "data": {
      "text/plain": [
       "True"
      ]
     },
     "execution_count": 8,
     "metadata": {},
     "output_type": "execute_result"
    }
   ],
   "source": [
    "x >= 3"
   ]
  },
  {
   "cell_type": "code",
   "execution_count": 9,
   "id": "gentle-skill",
   "metadata": {},
   "outputs": [
    {
     "data": {
      "text/plain": [
       "False"
      ]
     },
     "execution_count": 9,
     "metadata": {},
     "output_type": "execute_result"
    }
   ],
   "source": [
    "x <= 3"
   ]
  },
  {
   "cell_type": "code",
   "execution_count": 10,
   "id": "collective-custom",
   "metadata": {},
   "outputs": [
    {
     "data": {
      "text/plain": [
       "False"
      ]
     },
     "execution_count": 10,
     "metadata": {},
     "output_type": "execute_result"
    }
   ],
   "source": [
    "# !=  not equal to operator\n",
    "x != x"
   ]
  },
  {
   "cell_type": "code",
   "execution_count": 11,
   "id": "legendary-assumption",
   "metadata": {},
   "outputs": [
    {
     "data": {
      "text/plain": [
       "False"
      ]
     },
     "execution_count": 11,
     "metadata": {},
     "output_type": "execute_result"
    }
   ],
   "source": [
    "not True"
   ]
  },
  {
   "cell_type": "code",
   "execution_count": 12,
   "id": "broken-papua",
   "metadata": {},
   "outputs": [
    {
     "data": {
      "text/plain": [
       "True"
      ]
     },
     "execution_count": 12,
     "metadata": {},
     "output_type": "execute_result"
    }
   ],
   "source": [
    "not not True"
   ]
  },
  {
   "cell_type": "code",
   "execution_count": 13,
   "id": "unknown-cotton",
   "metadata": {},
   "outputs": [
    {
     "data": {
      "text/plain": [
       "True"
      ]
     },
     "execution_count": 13,
     "metadata": {},
     "output_type": "execute_result"
    }
   ],
   "source": [
    "\"jane\" == \"jane\""
   ]
  },
  {
   "cell_type": "code",
   "execution_count": 14,
   "id": "thick-asbestos",
   "metadata": {},
   "outputs": [
    {
     "data": {
      "text/plain": [
       "False"
      ]
     },
     "execution_count": 14,
     "metadata": {},
     "output_type": "execute_result"
    }
   ],
   "source": [
    "\"jane \" == \"jane\""
   ]
  },
  {
   "cell_type": "code",
   "execution_count": 15,
   "id": "governing-converter",
   "metadata": {},
   "outputs": [
    {
     "data": {
      "text/plain": [
       "False"
      ]
     },
     "execution_count": 15,
     "metadata": {},
     "output_type": "execute_result"
    }
   ],
   "source": [
    "\"jane\" == \"Jane\""
   ]
  },
  {
   "cell_type": "code",
   "execution_count": 16,
   "id": "hungarian-thousand",
   "metadata": {},
   "outputs": [
    {
     "data": {
      "text/plain": [
       "5"
      ]
     },
     "execution_count": 16,
     "metadata": {},
     "output_type": "execute_result"
    }
   ],
   "source": [
    "len(\"jane \")"
   ]
  },
  {
   "cell_type": "code",
   "execution_count": 17,
   "id": "lesser-charleston",
   "metadata": {},
   "outputs": [
    {
     "data": {
      "text/plain": [
       "4"
      ]
     },
     "execution_count": 17,
     "metadata": {},
     "output_type": "execute_result"
    }
   ],
   "source": [
    "len(\"jane\")"
   ]
  },
  {
   "cell_type": "code",
   "execution_count": 18,
   "id": "affecting-berlin",
   "metadata": {},
   "outputs": [
    {
     "data": {
      "text/plain": [
       "625"
      ]
     },
     "execution_count": 18,
     "metadata": {},
     "output_type": "execute_result"
    }
   ],
   "source": [
    "25**2"
   ]
  },
  {
   "cell_type": "code",
   "execution_count": 19,
   "id": "embedded-border",
   "metadata": {},
   "outputs": [
    {
     "data": {
      "text/plain": [
       "True"
      ]
     },
     "execution_count": 19,
     "metadata": {},
     "output_type": "execute_result"
    }
   ],
   "source": [
    "4 + 5 > 10 - 2"
   ]
  },
  {
   "cell_type": "code",
   "execution_count": 21,
   "id": "large-tobacco",
   "metadata": {},
   "outputs": [
    {
     "data": {
      "text/plain": [
       "'this is a string'"
      ]
     },
     "execution_count": 21,
     "metadata": {},
     "output_type": "execute_result"
    }
   ],
   "source": [
    "\"this is a string\""
   ]
  },
  {
   "cell_type": "code",
   "execution_count": 22,
   "id": "studied-vancouver",
   "metadata": {},
   "outputs": [
    {
     "data": {
      "text/plain": [
       "'this is a string'"
      ]
     },
     "execution_count": 22,
     "metadata": {},
     "output_type": "execute_result"
    }
   ],
   "source": [
    "'this is a string'"
   ]
  },
  {
   "cell_type": "code",
   "execution_count": 23,
   "id": "greater-thirty",
   "metadata": {},
   "outputs": [
    {
     "data": {
      "text/plain": [
       "\"I'm writing python\""
      ]
     },
     "execution_count": 23,
     "metadata": {},
     "output_type": "execute_result"
    }
   ],
   "source": [
    "\"I'm writing python\""
   ]
  },
  {
   "cell_type": "code",
   "execution_count": 26,
   "id": "appointed-teens",
   "metadata": {},
   "outputs": [
    {
     "data": {
      "text/plain": [
       "\"I'm writing python\""
      ]
     },
     "execution_count": 26,
     "metadata": {},
     "output_type": "execute_result"
    }
   ],
   "source": [
    "# \\ is the \"escape\" character\n",
    "# We're escaping the normal behavior of that character\n",
    "'I\\'m writing python'"
   ]
  },
  {
   "cell_type": "code",
   "execution_count": 29,
   "id": "public-character",
   "metadata": {},
   "outputs": [
    {
     "data": {
      "text/plain": [
       "'\\n\\n\\n\\nSo I said, \"Here\\'s the bill\"\\nand they said, \"I\\'m done\"\\n'"
      ]
     },
     "execution_count": 29,
     "metadata": {},
     "output_type": "execute_result"
    }
   ],
   "source": [
    "\"\"\"\n",
    "So I said, \"Here's the bill\"\n",
    "and they said, \"I'm done\"\n",
    "\"\"\""
   ]
  },
  {
   "cell_type": "code",
   "execution_count": 30,
   "id": "concrete-grade",
   "metadata": {},
   "outputs": [
    {
     "data": {
      "text/plain": [
       "'Italian Sparkling Mineral Water'"
      ]
     },
     "execution_count": 30,
     "metadata": {},
     "output_type": "execute_result"
    }
   ],
   "source": [
    "drink = \"Italian Sparkling Mineral Water\"\n",
    "drink"
   ]
  },
  {
   "cell_type": "code",
   "execution_count": 31,
   "id": "creative-gabriel",
   "metadata": {},
   "outputs": [
    {
     "data": {
      "text/plain": [
       "5"
      ]
     },
     "execution_count": 31,
     "metadata": {},
     "output_type": "execute_result"
    }
   ],
   "source": [
    "drink.count(\"a\")"
   ]
  },
  {
   "cell_type": "code",
   "execution_count": 32,
   "id": "recreational-northwest",
   "metadata": {},
   "outputs": [
    {
     "data": {
      "text/plain": [
       "0"
      ]
     },
     "execution_count": 32,
     "metadata": {},
     "output_type": "execute_result"
    }
   ],
   "source": [
    "drink.count(\"s\")"
   ]
  },
  {
   "cell_type": "code",
   "execution_count": 33,
   "id": "pointed-optimization",
   "metadata": {},
   "outputs": [
    {
     "data": {
      "text/plain": [
       "'ITALIAN SPARKLING MINERAL WATER'"
      ]
     },
     "execution_count": 33,
     "metadata": {},
     "output_type": "execute_result"
    }
   ],
   "source": [
    "drink.upper()"
   ]
  },
  {
   "cell_type": "code",
   "execution_count": 35,
   "id": "prompt-zimbabwe",
   "metadata": {},
   "outputs": [
    {
     "data": {
      "text/plain": [
       "'italian sparkling mineral water'"
      ]
     },
     "execution_count": 35,
     "metadata": {},
     "output_type": "execute_result"
    }
   ],
   "source": [
    "drink.lower()"
   ]
  },
  {
   "cell_type": "code",
   "execution_count": 36,
   "id": "peripheral-ridge",
   "metadata": {},
   "outputs": [
    {
     "data": {
      "text/plain": [
       "'Italian Sparkling Mineral Water'"
      ]
     },
     "execution_count": 36,
     "metadata": {},
     "output_type": "execute_result"
    }
   ],
   "source": [
    "drink"
   ]
  },
  {
   "cell_type": "code",
   "execution_count": 37,
   "id": "portable-phase",
   "metadata": {},
   "outputs": [
    {
     "data": {
      "text/plain": [
       "'ITALIAN SPARKLING MINERAL WATER'"
      ]
     },
     "execution_count": 37,
     "metadata": {},
     "output_type": "execute_result"
    }
   ],
   "source": [
    "# reassignment\n",
    "# new_value = old_value.transformation()\n",
    "drink = drink.upper()\n",
    "drink"
   ]
  },
  {
   "cell_type": "code",
   "execution_count": 38,
   "id": "super-spending",
   "metadata": {},
   "outputs": [
    {
     "data": {
      "text/plain": [
       "0"
      ]
     },
     "execution_count": 38,
     "metadata": {},
     "output_type": "execute_result"
    }
   ],
   "source": [
    "drink.count(\"a\")"
   ]
  },
  {
   "cell_type": "code",
   "execution_count": 39,
   "id": "ceramic-virgin",
   "metadata": {},
   "outputs": [
    {
     "data": {
      "text/plain": [
       "5"
      ]
     },
     "execution_count": 39,
     "metadata": {},
     "output_type": "execute_result"
    }
   ],
   "source": [
    "drink.count(\"A\")"
   ]
  },
  {
   "cell_type": "code",
   "execution_count": 40,
   "id": "stock-internet",
   "metadata": {},
   "outputs": [
    {
     "data": {
      "text/plain": [
       "True"
      ]
     },
     "execution_count": 40,
     "metadata": {},
     "output_type": "execute_result"
    }
   ],
   "source": [
    "\"WATER\" in drink"
   ]
  },
  {
   "cell_type": "code",
   "execution_count": 41,
   "id": "placed-repeat",
   "metadata": {},
   "outputs": [
    {
     "data": {
      "text/plain": [
       "True"
      ]
     },
     "execution_count": 41,
     "metadata": {},
     "output_type": "execute_result"
    }
   ],
   "source": [
    "\"s\" in drink.lower()"
   ]
  },
  {
   "cell_type": "code",
   "execution_count": 43,
   "id": "fantastic-phone",
   "metadata": {},
   "outputs": [
    {
     "data": {
      "text/plain": [
       "False"
      ]
     },
     "execution_count": 43,
     "metadata": {},
     "output_type": "execute_result"
    }
   ],
   "source": [
    "\"s\" not in drink.lower()"
   ]
  },
  {
   "cell_type": "code",
   "execution_count": 44,
   "id": "wound-front",
   "metadata": {},
   "outputs": [
    {
     "data": {
      "text/plain": [
       "True"
      ]
     },
     "execution_count": 44,
     "metadata": {},
     "output_type": "execute_result"
    }
   ],
   "source": [
    "drink.endswith(\"R\")"
   ]
  },
  {
   "cell_type": "code",
   "execution_count": 46,
   "id": "vocal-defeat",
   "metadata": {},
   "outputs": [
    {
     "data": {
      "text/plain": [
       "True"
      ]
     },
     "execution_count": 46,
     "metadata": {},
     "output_type": "execute_result"
    }
   ],
   "source": [
    "drink.startswith(\"ITALIAN\")"
   ]
  },
  {
   "cell_type": "code",
   "execution_count": 47,
   "id": "divided-footwear",
   "metadata": {},
   "outputs": [
    {
     "data": {
      "text/plain": [
       "True"
      ]
     },
     "execution_count": 47,
     "metadata": {},
     "output_type": "execute_result"
    }
   ],
   "source": [
    "drink.startswith(\"IT\")"
   ]
  },
  {
   "cell_type": "code",
   "execution_count": 48,
   "id": "knowing-salem",
   "metadata": {},
   "outputs": [
    {
     "data": {
      "text/plain": [
       "True"
      ]
     },
     "execution_count": 48,
     "metadata": {},
     "output_type": "execute_result"
    }
   ],
   "source": [
    "\"SPARK\" in drink"
   ]
  },
  {
   "cell_type": "code",
   "execution_count": 49,
   "id": "outdoor-center",
   "metadata": {},
   "outputs": [
    {
     "data": {
      "text/plain": [
       "False"
      ]
     },
     "execution_count": 49,
     "metadata": {},
     "output_type": "execute_result"
    }
   ],
   "source": [
    "drink.isdecimal()"
   ]
  },
  {
   "cell_type": "code",
   "execution_count": 51,
   "id": "declared-poultry",
   "metadata": {},
   "outputs": [
    {
     "data": {
      "text/plain": [
       "'     hello   '"
      ]
     },
     "execution_count": 51,
     "metadata": {},
     "output_type": "execute_result"
    }
   ],
   "source": [
    "string_with_spaces = \"     hello   \"\n",
    "string_with_spaces"
   ]
  },
  {
   "cell_type": "code",
   "execution_count": 52,
   "id": "separated-actress",
   "metadata": {},
   "outputs": [
    {
     "data": {
      "text/plain": [
       "'hello'"
      ]
     },
     "execution_count": 52,
     "metadata": {},
     "output_type": "execute_result"
    }
   ],
   "source": [
    "string_with_spaces.strip()"
   ]
  },
  {
   "cell_type": "code",
   "execution_count": 53,
   "id": "forty-flood",
   "metadata": {},
   "outputs": [
    {
     "data": {
      "text/plain": [
       "'     hello   '"
      ]
     },
     "execution_count": 53,
     "metadata": {},
     "output_type": "execute_result"
    }
   ],
   "source": [
    "string_with_spaces"
   ]
  },
  {
   "cell_type": "code",
   "execution_count": 54,
   "id": "impossible-smoke",
   "metadata": {},
   "outputs": [],
   "source": [
    "greeting = \"Hello\"\n",
    "person = \"Florence\""
   ]
  },
  {
   "cell_type": "code",
   "execution_count": 55,
   "id": "victorian-robertson",
   "metadata": {},
   "outputs": [
    {
     "data": {
      "text/plain": [
       "'concatenation'"
      ]
     },
     "execution_count": 55,
     "metadata": {},
     "output_type": "execute_result"
    }
   ],
   "source": [
    "# concatenation is how we put pieces of string together\n",
    "# con -> like chili con carne, con = with\n",
    "# cat -> cat\n",
    "# nation -> you're with the nation of the cat people, and they play with string\n",
    "\"con\" + \"cat\" + \"e\" + \"nation\""
   ]
  },
  {
   "cell_type": "code",
   "execution_count": 56,
   "id": "agricultural-matrix",
   "metadata": {},
   "outputs": [
    {
     "data": {
      "text/plain": [
       "'HelloFlorence'"
      ]
     },
     "execution_count": 56,
     "metadata": {},
     "output_type": "execute_result"
    }
   ],
   "source": [
    "greeting + person"
   ]
  },
  {
   "cell_type": "code",
   "execution_count": 57,
   "id": "satellite-scene",
   "metadata": {},
   "outputs": [
    {
     "data": {
      "text/plain": [
       "'Hello, Florence!'"
      ]
     },
     "execution_count": 57,
     "metadata": {},
     "output_type": "execute_result"
    }
   ],
   "source": [
    "greeting + \", \" + person + \"!\""
   ]
  },
  {
   "cell_type": "code",
   "execution_count": 60,
   "id": "right-thinking",
   "metadata": {},
   "outputs": [
    {
     "data": {
      "text/plain": [
       "''"
      ]
     },
     "execution_count": 60,
     "metadata": {},
     "output_type": "execute_result"
    }
   ],
   "source": [
    "example_of_building_up_a_string = \"\"\n",
    "example_of_building_up_a_string"
   ]
  },
  {
   "cell_type": "code",
   "execution_count": 61,
   "id": "internal-script",
   "metadata": {},
   "outputs": [
    {
     "data": {
      "text/plain": [
       "'G'"
      ]
     },
     "execution_count": 61,
     "metadata": {},
     "output_type": "execute_result"
    }
   ],
   "source": [
    "example_of_building_up_a_string = example_of_building_up_a_string + \"G\"\n",
    "example_of_building_up_a_string"
   ]
  },
  {
   "cell_type": "code",
   "execution_count": 62,
   "id": "union-polyester",
   "metadata": {},
   "outputs": [
    {
     "data": {
      "text/plain": [
       "'Good Day!'"
      ]
     },
     "execution_count": 62,
     "metadata": {},
     "output_type": "execute_result"
    }
   ],
   "source": [
    "# new value = old_value + something\n",
    "example_of_building_up_a_string = example_of_building_up_a_string + \"ood Day!\"\n",
    "example_of_building_up_a_string"
   ]
  },
  {
   "cell_type": "code",
   "execution_count": 63,
   "id": "italian-diversity",
   "metadata": {},
   "outputs": [
    {
     "data": {
      "text/plain": [
       "'Good Day!'"
      ]
     },
     "execution_count": 63,
     "metadata": {},
     "output_type": "execute_result"
    }
   ],
   "source": [
    "\"\" + \"G\" + \"ood Day!\""
   ]
  },
  {
   "cell_type": "markdown",
   "id": "quality-boost",
   "metadata": {},
   "source": [
    "## But what about strings and numbers together?"
   ]
  },
  {
   "cell_type": "code",
   "execution_count": 64,
   "id": "dressed-width",
   "metadata": {},
   "outputs": [
    {
     "data": {
      "text/plain": [
       "'hellohellohello'"
      ]
     },
     "execution_count": 64,
     "metadata": {},
     "output_type": "execute_result"
    }
   ],
   "source": [
    "# What happens if we multiply a string?\n",
    "\"hello\" * 3"
   ]
  },
  {
   "cell_type": "code",
   "execution_count": 68,
   "id": "numeric-secondary",
   "metadata": {},
   "outputs": [
    {
     "ename": "TypeError",
     "evalue": "can only concatenate str (not \"int\") to str",
     "output_type": "error",
     "traceback": [
      "\u001b[0;31m---------------------------------------------------------------------------\u001b[0m",
      "\u001b[0;31mTypeError\u001b[0m                                 Traceback (most recent call last)",
      "\u001b[0;32m<ipython-input-68-ba8a4a33bc24>\u001b[0m in \u001b[0;36m<module>\u001b[0;34m\u001b[0m\n\u001b[1;32m      1\u001b[0m \u001b[0;31m# Here, the plus sign doesn't know if it should do arithmetic or concatenation\u001b[0m\u001b[0;34m\u001b[0m\u001b[0;34m\u001b[0m\u001b[0;34m\u001b[0m\u001b[0m\n\u001b[1;32m      2\u001b[0m \u001b[0;31m# So, we'll get a type error\u001b[0m\u001b[0;34m\u001b[0m\u001b[0;34m\u001b[0m\u001b[0;34m\u001b[0m\u001b[0m\n\u001b[0;32m----> 3\u001b[0;31m \u001b[0;34m\"2\"\u001b[0m \u001b[0;34m+\u001b[0m \u001b[0;36m5\u001b[0m\u001b[0;34m\u001b[0m\u001b[0;34m\u001b[0m\u001b[0m\n\u001b[0m",
      "\u001b[0;31mTypeError\u001b[0m: can only concatenate str (not \"int\") to str"
     ]
    }
   ],
   "source": [
    "# Here, the plus sign doesn't know if it should do arithmetic or concatenation\n",
    "# So, we'll get a type error\n",
    "\"2\" + 5"
   ]
  },
  {
   "cell_type": "code",
   "execution_count": 70,
   "id": "skilled-vulnerability",
   "metadata": {},
   "outputs": [
    {
     "data": {
      "text/plain": [
       "7"
      ]
     },
     "execution_count": 70,
     "metadata": {},
     "output_type": "execute_result"
    }
   ],
   "source": [
    "int(\"2\") + 5"
   ]
  },
  {
   "cell_type": "code",
   "execution_count": 71,
   "id": "increased-verse",
   "metadata": {},
   "outputs": [
    {
     "data": {
      "text/plain": [
       "7.0"
      ]
     },
     "execution_count": 71,
     "metadata": {},
     "output_type": "execute_result"
    }
   ],
   "source": [
    "float(\"2\") + 5"
   ]
  },
  {
   "cell_type": "code",
   "execution_count": 73,
   "id": "according-pipeline",
   "metadata": {},
   "outputs": [
    {
     "data": {
      "text/plain": [
       "'My favorite number is 4'"
      ]
     },
     "execution_count": 73,
     "metadata": {},
     "output_type": "execute_result"
    }
   ],
   "source": [
    "# One option for concatenating number and strings is to turn the number into a string\n",
    "favorite_number = 4\n",
    "\"My favorite number is \" + str(favorite_number)"
   ]
  },
  {
   "cell_type": "code",
   "execution_count": 74,
   "id": "existing-publicity",
   "metadata": {},
   "outputs": [
    {
     "data": {
      "text/plain": [
       "'If we add 3 and 5, we get 8'"
      ]
     },
     "execution_count": 74,
     "metadata": {},
     "output_type": "execute_result"
    }
   ],
   "source": [
    "a = 3\n",
    "b = 5\n",
    "\"If we add \" + str(a) + \" and \" + str(b) + \", we get \" + str(a + b)"
   ]
  },
  {
   "cell_type": "code",
   "execution_count": 75,
   "id": "comic-salon",
   "metadata": {},
   "outputs": [
    {
     "data": {
      "text/plain": [
       "'If we add 3 and 5, we get 8'"
      ]
     },
     "execution_count": 75,
     "metadata": {},
     "output_type": "execute_result"
    }
   ],
   "source": [
    "# Format string\n",
    "# starts with an f outside the string to the left\n",
    "# Then the variables/expressions go in curly braces\n",
    "# What we get is called \"string interpolation\" from that format string\n",
    "f\"If we add {a} and {b}, we get {a + b}\""
   ]
  },
  {
   "cell_type": "code",
   "execution_count": 84,
   "id": "initial-agenda",
   "metadata": {},
   "outputs": [
    {
     "name": "stdout",
     "output_type": "stream",
     "text": [
      "If we add 3 and 5, we get 8\n"
     ]
    }
   ],
   "source": [
    "# Format string\n",
    "# starts with an f outside the string to the left\n",
    "# Then the variables/expressions go in curly braces\n",
    "# What we get is called \"string interpolation\" from that format string\n",
    "print(f\"If we add {a} and {b}, we get {a + b}\")"
   ]
  },
  {
   "cell_type": "code",
   "execution_count": 76,
   "id": "governmental-popularity",
   "metadata": {},
   "outputs": [
    {
     "data": {
      "text/plain": [
       "['This', 'is', 'a', 'message']"
      ]
     },
     "execution_count": 76,
     "metadata": {},
     "output_type": "execute_result"
    }
   ],
   "source": [
    "# Split is a string method (methods are functions on an object)\n",
    "\"This is a message\".split(\" \")"
   ]
  },
  {
   "cell_type": "code",
   "execution_count": 77,
   "id": "south-float",
   "metadata": {
    "scrolled": true
   },
   "outputs": [
    {
     "data": {
      "text/plain": [
       "['b', 'a', 'n', 'a', 'n', 'a']"
      ]
     },
     "execution_count": 77,
     "metadata": {},
     "output_type": "execute_result"
    }
   ],
   "source": [
    "\"b-a-n-a-n-a\".split(\"-\")"
   ]
  },
  {
   "cell_type": "code",
   "execution_count": 79,
   "id": "raising-relative",
   "metadata": {},
   "outputs": [
    {
     "data": {
      "text/plain": [
       "'This is an list of strings'"
      ]
     },
     "execution_count": 79,
     "metadata": {},
     "output_type": "execute_result"
    }
   ],
   "source": [
    "# Join is a string method\n",
    "# String methods area attached and called on strings by the . notation\n",
    "\" \".join([\"This\", \"is\", \"an\", \"list\", \"of\", \"strings\"])"
   ]
  },
  {
   "cell_type": "code",
   "execution_count": 81,
   "id": "catholic-palestine",
   "metadata": {},
   "outputs": [
    {
     "data": {
      "text/plain": [
       "'This is the example of Jane Janeway and string splitting'"
      ]
     },
     "execution_count": 81,
     "metadata": {},
     "output_type": "execute_result"
    }
   ],
   "source": [
    "full_name = \"Jane Janeway\"\n",
    "name_parts = full_name.split(\" \")\n",
    "name_parts\n",
    "first_name = name_parts[0]\n",
    "last_name = name_parts[-1] # -1 means the last index\n",
    "\n",
    "f\"This is the example of {first_name} {last_name} and string splitting\""
   ]
  },
  {
   "cell_type": "code",
   "execution_count": 83,
   "id": "historical-restriction",
   "metadata": {},
   "outputs": [
    {
     "data": {
      "text/plain": [
       "'This is an example of Jane Janeway and string splitting'"
      ]
     },
     "execution_count": 83,
     "metadata": {},
     "output_type": "execute_result"
    }
   ],
   "source": [
    "\"This is an example of \" + first_name + \" \" + last_name + \" and string splitting\""
   ]
  },
  {
   "cell_type": "markdown",
   "id": "threaded-occasions",
   "metadata": {},
   "source": [
    "## Lists, List Methods, and List Comprehesions"
   ]
  },
  {
   "cell_type": "code",
   "execution_count": 87,
   "id": "virgin-candidate",
   "metadata": {},
   "outputs": [
    {
     "data": {
      "text/plain": [
       "[1, 2, 2, 3, 3, 3, 4, 4, 4, 4, 5, 5, 5, 5, 5]"
      ]
     },
     "execution_count": 87,
     "metadata": {},
     "output_type": "execute_result"
    }
   ],
   "source": [
    "# square brackets make lists\n",
    "numbers = [1, 2, 2, 3, 3, 3, 4, 4, 4, 4, 5, 5, 5, 5, 5]\n",
    "numbers"
   ]
  },
  {
   "cell_type": "code",
   "execution_count": 88,
   "id": "generous-customs",
   "metadata": {},
   "outputs": [
    {
     "data": {
      "text/plain": [
       "3"
      ]
     },
     "execution_count": 88,
     "metadata": {},
     "output_type": "execute_result"
    }
   ],
   "source": [
    "numbers.count(3)"
   ]
  },
  {
   "cell_type": "code",
   "execution_count": 89,
   "id": "roman-kingdom",
   "metadata": {},
   "outputs": [],
   "source": [
    "# .append changes the original underlying list, which is different than strings\n",
    "numbers.append(9)"
   ]
  },
  {
   "cell_type": "code",
   "execution_count": 90,
   "id": "latest-motorcycle",
   "metadata": {},
   "outputs": [
    {
     "data": {
      "text/plain": [
       "[1, 2, 2, 3, 3, 3, 4, 4, 4, 4, 5, 5, 5, 5, 5, 9]"
      ]
     },
     "execution_count": 90,
     "metadata": {},
     "output_type": "execute_result"
    }
   ],
   "source": [
    "numbers"
   ]
  },
  {
   "cell_type": "code",
   "execution_count": 91,
   "id": "frequent-white",
   "metadata": {},
   "outputs": [
    {
     "data": {
      "text/plain": [
       "['h', 'e', 'l', 'l', 'o']"
      ]
     },
     "execution_count": 91,
     "metadata": {},
     "output_type": "execute_result"
    }
   ],
   "source": [
    "list(\"hello\")"
   ]
  },
  {
   "cell_type": "code",
   "execution_count": 92,
   "id": "controlling-silence",
   "metadata": {},
   "outputs": [
    {
     "data": {
      "text/plain": [
       "['John', 'Paul', 'George', 'Ringo']"
      ]
     },
     "execution_count": 92,
     "metadata": {},
     "output_type": "execute_result"
    }
   ],
   "source": [
    "beatles = [\"John\", \"Paul\", \"George\", \"Ringo\"]\n",
    "beatles"
   ]
  },
  {
   "cell_type": "code",
   "execution_count": 93,
   "id": "piano-bronze",
   "metadata": {},
   "outputs": [
    {
     "data": {
      "text/plain": [
       "4"
      ]
     },
     "execution_count": 93,
     "metadata": {},
     "output_type": "execute_result"
    }
   ],
   "source": [
    "len(beatles)"
   ]
  },
  {
   "cell_type": "code",
   "execution_count": 94,
   "id": "beginning-cheat",
   "metadata": {},
   "outputs": [],
   "source": [
    "# .sort changes the orignal underlying list, not a copy!\n",
    "beatles.sort()"
   ]
  },
  {
   "cell_type": "code",
   "execution_count": 95,
   "id": "perfect-checkout",
   "metadata": {},
   "outputs": [
    {
     "data": {
      "text/plain": [
       "['George', 'John', 'Paul', 'Ringo']"
      ]
     },
     "execution_count": 95,
     "metadata": {},
     "output_type": "execute_result"
    }
   ],
   "source": [
    "beatles"
   ]
  },
  {
   "cell_type": "code",
   "execution_count": 96,
   "id": "engaged-favor",
   "metadata": {},
   "outputs": [
    {
     "data": {
      "text/plain": [
       "['Ringo', 'Paul', 'John', 'George']"
      ]
     },
     "execution_count": 96,
     "metadata": {},
     "output_type": "execute_result"
    }
   ],
   "source": [
    "beatles.sort(reverse = True)\n",
    "beatles"
   ]
  },
  {
   "cell_type": "code",
   "execution_count": 97,
   "id": "assumed-surgeon",
   "metadata": {},
   "outputs": [],
   "source": [
    "# matrix\n",
    "x = [\n",
    "    [1, 2, 3],\n",
    "    [4, 5, 6],\n",
    "    [7, 8, 9]\n",
    "]"
   ]
  },
  {
   "cell_type": "code",
   "execution_count": 98,
   "id": "intelligent-computer",
   "metadata": {},
   "outputs": [],
   "source": [
    "stuff = [\"shoes\", 4, [\"chewing gum\", \"hair bands\", \"CDs of hair bands\"]]"
   ]
  },
  {
   "cell_type": "code",
   "execution_count": 99,
   "id": "thrown-satellite",
   "metadata": {},
   "outputs": [
    {
     "data": {
      "text/plain": [
       "'shoes'"
      ]
     },
     "execution_count": 99,
     "metadata": {},
     "output_type": "execute_result"
    }
   ],
   "source": [
    "# first item on the \"stuff\" list\n",
    "stuff[0]"
   ]
  },
  {
   "cell_type": "code",
   "execution_count": 100,
   "id": "collaborative-hawaiian",
   "metadata": {},
   "outputs": [
    {
     "data": {
      "text/plain": [
       "4"
      ]
     },
     "execution_count": 100,
     "metadata": {},
     "output_type": "execute_result"
    }
   ],
   "source": [
    "# second item on the \"stuff list\"\n",
    "stuff[1]"
   ]
  },
  {
   "cell_type": "code",
   "execution_count": 101,
   "id": "ahead-fabric",
   "metadata": {},
   "outputs": [
    {
     "data": {
      "text/plain": [
       "['chewing gum', 'hair bands', 'CDs of hair bands']"
      ]
     },
     "execution_count": 101,
     "metadata": {},
     "output_type": "execute_result"
    }
   ],
   "source": [
    "stuff[2]"
   ]
  },
  {
   "cell_type": "code",
   "execution_count": 102,
   "id": "competent-drink",
   "metadata": {},
   "outputs": [
    {
     "data": {
      "text/plain": [
       "'chewing gum'"
      ]
     },
     "execution_count": 102,
     "metadata": {},
     "output_type": "execute_result"
    }
   ],
   "source": [
    "stuff[2][0]"
   ]
  },
  {
   "cell_type": "code",
   "execution_count": 103,
   "id": "vulnerable-behavior",
   "metadata": {},
   "outputs": [
    {
     "data": {
      "text/plain": [
       "'m'"
      ]
     },
     "execution_count": 103,
     "metadata": {},
     "output_type": "execute_result"
    }
   ],
   "source": [
    "# stuff[index_2] gives us the list ['chewing gum', 'hair bands', 'CDs of hair bands']\n",
    "# stuff[2][0] gives us the first string from that list \"chewing gum\"\n",
    "# \"chewing gum\"[-1] gives us the last character of the string\n",
    "stuff[2][0][-1]"
   ]
  },
  {
   "cell_type": "code",
   "execution_count": 104,
   "id": "martial-sheet",
   "metadata": {},
   "outputs": [],
   "source": [
    "# Jupyter notebook/ipython feature, put a question mark instead of parentheses\n",
    "# and we'll get the docstring for that method\n",
    "stuff.pop?"
   ]
  },
  {
   "cell_type": "code",
   "execution_count": 105,
   "id": "fatty-insurance",
   "metadata": {},
   "outputs": [],
   "source": [
    "last_item = stuff.pop()"
   ]
  },
  {
   "cell_type": "code",
   "execution_count": 106,
   "id": "featured-anaheim",
   "metadata": {},
   "outputs": [
    {
     "data": {
      "text/plain": [
       "['chewing gum', 'hair bands', 'CDs of hair bands']"
      ]
     },
     "execution_count": 106,
     "metadata": {},
     "output_type": "execute_result"
    }
   ],
   "source": [
    "last_item"
   ]
  },
  {
   "cell_type": "code",
   "execution_count": 107,
   "id": "automotive-preserve",
   "metadata": {},
   "outputs": [
    {
     "data": {
      "text/plain": [
       "['shoes', 4]"
      ]
     },
     "execution_count": 107,
     "metadata": {},
     "output_type": "execute_result"
    }
   ],
   "source": [
    "stuff"
   ]
  },
  {
   "cell_type": "code",
   "execution_count": 108,
   "id": "skilled-china",
   "metadata": {},
   "outputs": [],
   "source": [
    "stuff.extend?"
   ]
  },
  {
   "cell_type": "code",
   "execution_count": 109,
   "id": "differential-optimization",
   "metadata": {},
   "outputs": [
    {
     "data": {
      "text/plain": [
       "['shoes', 4, 'Ringo', 'Paul', 'John', 'George']"
      ]
     },
     "execution_count": 109,
     "metadata": {},
     "output_type": "execute_result"
    }
   ],
   "source": [
    "stuff.extend(beatles)\n",
    "stuff"
   ]
  },
  {
   "cell_type": "code",
   "execution_count": 110,
   "id": "parallel-radius",
   "metadata": {},
   "outputs": [
    {
     "data": {
      "text/plain": [
       "[1, 2, 3, 4]"
      ]
     },
     "execution_count": 110,
     "metadata": {},
     "output_type": "execute_result"
    }
   ],
   "source": [
    "# possible to concatenate lists\n",
    "a = [1, 2]\n",
    "b = [3, 4]\n",
    "a + b "
   ]
  },
  {
   "cell_type": "code",
   "execution_count": 111,
   "id": "digital-secretary",
   "metadata": {},
   "outputs": [],
   "source": [
    "# extend transforms the a variable to contain the items from the b variable\n",
    "a.extend(b)"
   ]
  },
  {
   "cell_type": "code",
   "execution_count": 112,
   "id": "polar-audit",
   "metadata": {},
   "outputs": [
    {
     "data": {
      "text/plain": [
       "[1, 2, 3, 4]"
      ]
     },
     "execution_count": 112,
     "metadata": {},
     "output_type": "execute_result"
    }
   ],
   "source": [
    "a"
   ]
  },
  {
   "cell_type": "code",
   "execution_count": 114,
   "id": "distinct-square",
   "metadata": {},
   "outputs": [
    {
     "data": {
      "text/plain": [
       "['Ringo', 'Paul', 'John', 'George']"
      ]
     },
     "execution_count": 114,
     "metadata": {},
     "output_type": "execute_result"
    }
   ],
   "source": [
    "beatles"
   ]
  },
  {
   "cell_type": "code",
   "execution_count": 115,
   "id": "intense-stress",
   "metadata": {},
   "outputs": [
    {
     "data": {
      "text/plain": [
       "'Ringo'"
      ]
     },
     "execution_count": 115,
     "metadata": {},
     "output_type": "execute_result"
    }
   ],
   "source": [
    "beatles[0]"
   ]
  },
  {
   "cell_type": "code",
   "execution_count": 116,
   "id": "resistant-image",
   "metadata": {},
   "outputs": [
    {
     "data": {
      "text/plain": [
       "'George'"
      ]
     },
     "execution_count": 116,
     "metadata": {},
     "output_type": "execute_result"
    }
   ],
   "source": [
    "beatles[-1]"
   ]
  },
  {
   "cell_type": "markdown",
   "id": "satellite-characteristic",
   "metadata": {},
   "source": [
    "- List methods alter the original list (in most cases)\n",
    "- String methods give you back a brand new string"
   ]
  },
  {
   "cell_type": "code",
   "execution_count": 117,
   "id": "israeli-hello",
   "metadata": {},
   "outputs": [
    {
     "data": {
      "text/plain": [
       "['Ringo', 'Paul', 'John', 'George', 'Heather']"
      ]
     },
     "execution_count": 117,
     "metadata": {},
     "output_type": "execute_result"
    }
   ],
   "source": [
    "beatles.append(\"Heather\")\n",
    "beatles"
   ]
  },
  {
   "cell_type": "code",
   "execution_count": 118,
   "id": "innovative-slovak",
   "metadata": {},
   "outputs": [
    {
     "data": {
      "text/plain": [
       "['Ringo', 'Paul', 'John', 'George', 'Heather', [1, 2, 3]]"
      ]
     },
     "execution_count": 118,
     "metadata": {},
     "output_type": "execute_result"
    }
   ],
   "source": [
    "# can we append a list to a list and keep the orignal list a list?\n",
    "beatles.append([1, 2, 3])\n",
    "beatles"
   ]
  },
  {
   "cell_type": "code",
   "execution_count": 119,
   "id": "turkish-greek",
   "metadata": {},
   "outputs": [
    {
     "data": {
      "text/plain": [
       "['Paul', 'John', 'George', 'Heather', [1, 2, 3]]"
      ]
     },
     "execution_count": 119,
     "metadata": {},
     "output_type": "execute_result"
    }
   ],
   "source": [
    "beatles.remove(\"Ringo\")\n",
    "beatles"
   ]
  },
  {
   "cell_type": "code",
   "execution_count": 120,
   "id": "lesbian-combat",
   "metadata": {},
   "outputs": [
    {
     "data": {
      "text/plain": [
       "['Paul', 'John', 'George', [1, 2, 3]]"
      ]
     },
     "execution_count": 120,
     "metadata": {},
     "output_type": "execute_result"
    }
   ],
   "source": [
    "beatles.remove(\"Heather\")\n",
    "beatles"
   ]
  },
  {
   "cell_type": "code",
   "execution_count": 121,
   "id": "constant-paragraph",
   "metadata": {},
   "outputs": [],
   "source": [
    "beatles.remove([1, 2, 3])"
   ]
  },
  {
   "cell_type": "code",
   "execution_count": 122,
   "id": "light-deficit",
   "metadata": {},
   "outputs": [
    {
     "data": {
      "text/plain": [
       "['Paul', 'John', 'George']"
      ]
     },
     "execution_count": 122,
     "metadata": {},
     "output_type": "execute_result"
    }
   ],
   "source": [
    "beatles"
   ]
  },
  {
   "cell_type": "code",
   "execution_count": 123,
   "id": "behind-courtesy",
   "metadata": {},
   "outputs": [
    {
     "data": {
      "text/plain": [
       "['Paul', 'John', 'George', 'Ringo']"
      ]
     },
     "execution_count": 123,
     "metadata": {},
     "output_type": "execute_result"
    }
   ],
   "source": [
    "beatles.append(\"Ringo\")\n",
    "beatles"
   ]
  },
  {
   "cell_type": "code",
   "execution_count": 124,
   "id": "complimentary-manual",
   "metadata": {},
   "outputs": [
    {
     "data": {
      "text/plain": [
       "['Paul', 'John', 'George', 'Ringo']"
      ]
     },
     "execution_count": 124,
     "metadata": {},
     "output_type": "execute_result"
    }
   ],
   "source": [
    "fab_four = beatles.copy()\n",
    "fab_four"
   ]
  },
  {
   "cell_type": "code",
   "execution_count": 125,
   "id": "expected-supervision",
   "metadata": {},
   "outputs": [],
   "source": [
    "# Here's some \"weird\" behavior, but it's built this way\n",
    "a = []"
   ]
  },
  {
   "cell_type": "code",
   "execution_count": 126,
   "id": "latest-parking",
   "metadata": {},
   "outputs": [],
   "source": [
    "# If we assign a variable to a list, we're pointing both variables to the same list in memory\n",
    "b = a"
   ]
  },
  {
   "cell_type": "code",
   "execution_count": 129,
   "id": "aggressive-brake",
   "metadata": {},
   "outputs": [],
   "source": [
    "b.append(\"Mango\")"
   ]
  },
  {
   "cell_type": "code",
   "execution_count": 130,
   "id": "suffering-appendix",
   "metadata": {},
   "outputs": [
    {
     "data": {
      "text/plain": [
       "['Mango']"
      ]
     },
     "execution_count": 130,
     "metadata": {},
     "output_type": "execute_result"
    }
   ],
   "source": [
    "b"
   ]
  },
  {
   "cell_type": "code",
   "execution_count": 131,
   "id": "convinced-profit",
   "metadata": {},
   "outputs": [
    {
     "data": {
      "text/plain": [
       "['Mango']"
      ]
     },
     "execution_count": 131,
     "metadata": {},
     "output_type": "execute_result"
    }
   ],
   "source": [
    "a"
   ]
  },
  {
   "cell_type": "code",
   "execution_count": 132,
   "id": "furnished-sydney",
   "metadata": {},
   "outputs": [],
   "source": [
    "a.append(\"Pineapple\")"
   ]
  },
  {
   "cell_type": "code",
   "execution_count": 133,
   "id": "imported-direction",
   "metadata": {},
   "outputs": [
    {
     "data": {
      "text/plain": [
       "['Mango', 'Pineapple']"
      ]
     },
     "execution_count": 133,
     "metadata": {},
     "output_type": "execute_result"
    }
   ],
   "source": [
    "b"
   ]
  },
  {
   "cell_type": "code",
   "execution_count": 134,
   "id": "statistical-english",
   "metadata": {},
   "outputs": [
    {
     "data": {
      "text/plain": [
       "['Mango', 'Pineapple']"
      ]
     },
     "execution_count": 134,
     "metadata": {},
     "output_type": "execute_result"
    }
   ],
   "source": [
    "a"
   ]
  },
  {
   "cell_type": "code",
   "execution_count": 135,
   "id": "seeing-shock",
   "metadata": {},
   "outputs": [],
   "source": [
    "# Solution for avoiding this scenario of multiple variables pointing to the exact same underlying list is to use .copy\n",
    "c = a.copy()"
   ]
  },
  {
   "cell_type": "code",
   "execution_count": 136,
   "id": "resistant-sterling",
   "metadata": {},
   "outputs": [],
   "source": [
    "a.clear()"
   ]
  },
  {
   "cell_type": "code",
   "execution_count": 137,
   "id": "considered-helena",
   "metadata": {},
   "outputs": [
    {
     "data": {
      "text/plain": [
       "[]"
      ]
     },
     "execution_count": 137,
     "metadata": {},
     "output_type": "execute_result"
    }
   ],
   "source": [
    "a"
   ]
  },
  {
   "cell_type": "code",
   "execution_count": 138,
   "id": "informal-criterion",
   "metadata": {},
   "outputs": [
    {
     "data": {
      "text/plain": [
       "['Mango', 'Pineapple']"
      ]
     },
     "execution_count": 138,
     "metadata": {},
     "output_type": "execute_result"
    }
   ],
   "source": [
    "c"
   ]
  },
  {
   "cell_type": "code",
   "execution_count": 139,
   "id": "square-folks",
   "metadata": {},
   "outputs": [
    {
     "data": {
      "text/plain": [
       "[]"
      ]
     },
     "execution_count": 139,
     "metadata": {},
     "output_type": "execute_result"
    }
   ],
   "source": [
    "b"
   ]
  },
  {
   "cell_type": "code",
   "execution_count": 140,
   "id": "immediate-evanescence",
   "metadata": {},
   "outputs": [],
   "source": [
    "# Build up a list\n",
    "fruits = []"
   ]
  },
  {
   "cell_type": "code",
   "execution_count": 145,
   "id": "recognized-glass",
   "metadata": {},
   "outputs": [],
   "source": [
    "fruits.append(\"Mango\")\n",
    "fruits.append(\"Pineapple\")\n",
    "fruits.append(\"Banana\")"
   ]
  },
  {
   "cell_type": "code",
   "execution_count": 146,
   "id": "august-fiction",
   "metadata": {},
   "outputs": [
    {
     "data": {
      "text/plain": [
       "['Mango',\n",
       " 'Pineapple',\n",
       " 'Banana',\n",
       " 'Mango',\n",
       " 'Pineapple',\n",
       " 'Banana',\n",
       " 'Mango',\n",
       " 'Pineapple',\n",
       " 'Banana']"
      ]
     },
     "execution_count": 146,
     "metadata": {},
     "output_type": "execute_result"
    }
   ],
   "source": [
    "fruits"
   ]
  },
  {
   "cell_type": "code",
   "execution_count": 148,
   "id": "blessed-sodium",
   "metadata": {},
   "outputs": [],
   "source": [
    "# Reassigning a list value by its index\n",
    "fruits[0] = \"Dragonfruit\""
   ]
  },
  {
   "cell_type": "code",
   "execution_count": 149,
   "id": "functional-offense",
   "metadata": {},
   "outputs": [
    {
     "data": {
      "text/plain": [
       "['Dragonfruit',\n",
       " 'Pineapple',\n",
       " 'Banana',\n",
       " 'Mango',\n",
       " 'Pineapple',\n",
       " 'Banana',\n",
       " 'Mango',\n",
       " 'Pineapple',\n",
       " 'Banana']"
      ]
     },
     "execution_count": 149,
     "metadata": {},
     "output_type": "execute_result"
    }
   ],
   "source": [
    "fruits"
   ]
  },
  {
   "cell_type": "code",
   "execution_count": 150,
   "id": "coastal-offer",
   "metadata": {},
   "outputs": [
    {
     "data": {
      "text/plain": [
       "'Banana'"
      ]
     },
     "execution_count": 150,
     "metadata": {},
     "output_type": "execute_result"
    }
   ],
   "source": [
    "# Getting the value\n",
    "fruits[-1]"
   ]
  },
  {
   "cell_type": "code",
   "execution_count": 151,
   "id": "characteristic-fortune",
   "metadata": {
    "scrolled": true
   },
   "outputs": [
    {
     "data": {
      "text/plain": [
       "['Dragonfruit',\n",
       " 'Pineapple',\n",
       " 'Banana',\n",
       " 'Mango',\n",
       " 'Pineapple',\n",
       " 'Banana',\n",
       " 'Mango',\n",
       " 'Pineapple',\n",
       " 'Mandarin orange']"
      ]
     },
     "execution_count": 151,
     "metadata": {},
     "output_type": "execute_result"
    }
   ],
   "source": [
    "# Set the value\n",
    "fruits[-1] = \"Mandarin orange\"\n",
    "fruits"
   ]
  },
  {
   "cell_type": "code",
   "execution_count": 152,
   "id": "aware-therapist",
   "metadata": {},
   "outputs": [
    {
     "data": {
      "text/plain": [
       "['a', 'b', 'c']"
      ]
     },
     "execution_count": 152,
     "metadata": {},
     "output_type": "execute_result"
    }
   ],
   "source": [
    "a = [\"a\", \"b\", \"c\"]\n",
    "a"
   ]
  },
  {
   "cell_type": "code",
   "execution_count": 153,
   "id": "naval-questionnaire",
   "metadata": {},
   "outputs": [
    {
     "data": {
      "text/plain": [
       "'c'"
      ]
     },
     "execution_count": 153,
     "metadata": {},
     "output_type": "execute_result"
    }
   ],
   "source": [
    "a[2]"
   ]
  },
  {
   "cell_type": "code",
   "execution_count": 156,
   "id": "filled-chapel",
   "metadata": {},
   "outputs": [],
   "source": [
    "a.append(\"d\")"
   ]
  },
  {
   "cell_type": "code",
   "execution_count": 157,
   "id": "breeding-question",
   "metadata": {},
   "outputs": [
    {
     "data": {
      "text/plain": [
       "['a', 'b', 'c', 'd']"
      ]
     },
     "execution_count": 157,
     "metadata": {},
     "output_type": "execute_result"
    }
   ],
   "source": [
    "a"
   ]
  },
  {
   "cell_type": "code",
   "execution_count": 158,
   "id": "standing-block",
   "metadata": {},
   "outputs": [
    {
     "data": {
      "text/plain": [
       "['John']"
      ]
     },
     "execution_count": 158,
     "metadata": {},
     "output_type": "execute_result"
    }
   ],
   "source": [
    "# List slices are how we get a sub-list from our lists\n",
    "beatles[1:2]"
   ]
  },
  {
   "cell_type": "code",
   "execution_count": 160,
   "id": "straight-riverside",
   "metadata": {},
   "outputs": [
    {
     "data": {
      "text/plain": [
       "['Paul', 'John']"
      ]
     },
     "execution_count": 160,
     "metadata": {},
     "output_type": "execute_result"
    }
   ],
   "source": [
    "beatles[0:2]"
   ]
  },
  {
   "cell_type": "code",
   "execution_count": 161,
   "id": "structured-modern",
   "metadata": {},
   "outputs": [
    {
     "data": {
      "text/plain": [
       "['George', 'Ringo']"
      ]
     },
     "execution_count": 161,
     "metadata": {},
     "output_type": "execute_result"
    }
   ],
   "source": [
    "# From before index 2 to the rest of the list\n",
    "beatles[2:]"
   ]
  },
  {
   "cell_type": "code",
   "execution_count": 162,
   "id": "compatible-legislation",
   "metadata": {},
   "outputs": [
    {
     "data": {
      "text/plain": [
       "['Paul', 'John']"
      ]
     },
     "execution_count": 162,
     "metadata": {},
     "output_type": "execute_result"
    }
   ],
   "source": [
    "beatles[:2]"
   ]
  },
  {
   "cell_type": "code",
   "execution_count": 163,
   "id": "apparent-creature",
   "metadata": {},
   "outputs": [
    {
     "data": {
      "text/plain": [
       "['Paul', 'John', 'George', 'Ringo']"
      ]
     },
     "execution_count": 163,
     "metadata": {},
     "output_type": "execute_result"
    }
   ],
   "source": [
    "# slices give a copy of the sub-list, they don't alter the original\n",
    "beatles"
   ]
  },
  {
   "cell_type": "markdown",
   "id": "injured-desktop",
   "metadata": {},
   "source": [
    "## List Comprehension Intro"
   ]
  },
  {
   "cell_type": "code",
   "execution_count": 165,
   "id": "liquid-bahamas",
   "metadata": {},
   "outputs": [],
   "source": [
    "numbers = [1, 2, 3, 4, 5]"
   ]
  },
  {
   "cell_type": "code",
   "execution_count": 166,
   "id": "lucky-compensation",
   "metadata": {},
   "outputs": [
    {
     "data": {
      "text/plain": [
       "[1, 2, 3, 4, 5]"
      ]
     },
     "execution_count": 166,
     "metadata": {},
     "output_type": "execute_result"
    }
   ],
   "source": [
    "# Make a new list where add 1 to eeach number \n",
    "# step 1 is square brackets because lists\n",
    "# step 2 is we'll make a new variable that will hold each and every item on the list, one at a time...\n",
    "# step 3: [variable for variable in list_variable]\n",
    "[number for number in numbers]"
   ]
  },
  {
   "cell_type": "code",
   "execution_count": 167,
   "id": "judicial-status",
   "metadata": {},
   "outputs": [
    {
     "data": {
      "text/plain": [
       "[2, 3, 4, 5, 6]"
      ]
     },
     "execution_count": 167,
     "metadata": {},
     "output_type": "execute_result"
    }
   ],
   "source": [
    "# if we operate on the variable we created, then we get back a tranformed list!\n",
    "[number + 1 for number in numbers]"
   ]
  },
  {
   "cell_type": "code",
   "execution_count": 173,
   "id": "above-chance",
   "metadata": {},
   "outputs": [
    {
     "data": {
      "text/plain": [
       "[1, 4, 9, 16, 25]"
      ]
     },
     "execution_count": 173,
     "metadata": {},
     "output_type": "execute_result"
    }
   ],
   "source": [
    "[x ** 2 for x in numbers]"
   ]
  },
  {
   "cell_type": "code",
   "execution_count": 168,
   "id": "operational-waters",
   "metadata": {},
   "outputs": [
    {
     "data": {
      "text/plain": [
       "[5, 10, 15, 20, 25]"
      ]
     },
     "execution_count": 168,
     "metadata": {},
     "output_type": "execute_result"
    }
   ],
   "source": [
    "[n * 5 for n in numbers]"
   ]
  },
  {
   "cell_type": "code",
   "execution_count": 170,
   "id": "blind-terror",
   "metadata": {},
   "outputs": [
    {
     "data": {
      "text/plain": [
       "['Paul', 'John', 'George', 'Ringo']"
      ]
     },
     "execution_count": 170,
     "metadata": {},
     "output_type": "execute_result"
    }
   ],
   "source": [
    "beatles"
   ]
  },
  {
   "cell_type": "code",
   "execution_count": 171,
   "id": "optical-nelson",
   "metadata": {},
   "outputs": [
    {
     "data": {
      "text/plain": [
       "['Paul', 'John', 'George', 'Ringo']"
      ]
     },
     "execution_count": 171,
     "metadata": {},
     "output_type": "execute_result"
    }
   ],
   "source": [
    "[beatle for beatle in beatles]"
   ]
  },
  {
   "cell_type": "code",
   "execution_count": 172,
   "id": "amber-bankruptcy",
   "metadata": {},
   "outputs": [
    {
     "data": {
      "text/plain": [
       "['Paul is my favorite Beatle',\n",
       " 'John is my favorite Beatle',\n",
       " 'George is my favorite Beatle',\n",
       " 'Ringo is my favorite Beatle']"
      ]
     },
     "execution_count": 172,
     "metadata": {},
     "output_type": "execute_result"
    }
   ],
   "source": [
    "[beatle + \" is my favorite Beatle\" for beatle in beatles]"
   ]
  },
  {
   "cell_type": "code",
   "execution_count": 174,
   "id": "affected-fountain",
   "metadata": {},
   "outputs": [
    {
     "data": {
      "text/plain": [
       "['Dragonfruit',\n",
       " 'Pineapple',\n",
       " 'Banana',\n",
       " 'Mango',\n",
       " 'Pineapple',\n",
       " 'Banana',\n",
       " 'Mango',\n",
       " 'Pineapple',\n",
       " 'Mandarin orange']"
      ]
     },
     "execution_count": 174,
     "metadata": {},
     "output_type": "execute_result"
    }
   ],
   "source": [
    "fruits"
   ]
  },
  {
   "cell_type": "code",
   "execution_count": 177,
   "id": "textile-macro",
   "metadata": {},
   "outputs": [
    {
     "data": {
      "text/plain": [
       "['Dragonfruit is my fave',\n",
       " 'Pineapple is my fave',\n",
       " 'Banana is my fave',\n",
       " 'Mango is my fave',\n",
       " 'Pineapple is my fave',\n",
       " 'Banana is my fave',\n",
       " 'Mango is my fave',\n",
       " 'Pineapple is my fave',\n",
       " 'Mandarin orange is my fave']"
      ]
     },
     "execution_count": 177,
     "metadata": {},
     "output_type": "execute_result"
    }
   ],
   "source": [
    "my_favorites = [fruit + \" is my fave\" for fruit in fruits]\n",
    "my_favorites"
   ]
  },
  {
   "cell_type": "code",
   "execution_count": 179,
   "id": "mature-prison",
   "metadata": {},
   "outputs": [
    {
     "data": {
      "text/plain": [
       "[1, 2, 3, 4, 5]"
      ]
     },
     "execution_count": 179,
     "metadata": {},
     "output_type": "execute_result"
    }
   ],
   "source": [
    "numbers"
   ]
  },
  {
   "cell_type": "code",
   "execution_count": 181,
   "id": "joint-president",
   "metadata": {},
   "outputs": [
    {
     "data": {
      "text/plain": [
       "[2, 4]"
      ]
     },
     "execution_count": 181,
     "metadata": {},
     "output_type": "execute_result"
    }
   ],
   "source": [
    "even_numbers = [n for n in numbers if n % 2 == 0]\n",
    "even_numbers"
   ]
  },
  {
   "cell_type": "code",
   "execution_count": 182,
   "id": "gorgeous-thing",
   "metadata": {},
   "outputs": [
    {
     "data": {
      "text/plain": [
       "[3, 4, 5]"
      ]
     },
     "execution_count": 182,
     "metadata": {},
     "output_type": "execute_result"
    }
   ],
   "source": [
    "[n for n in numbers if n > 2]"
   ]
  },
  {
   "cell_type": "code",
   "execution_count": 183,
   "id": "responsible-swaziland",
   "metadata": {},
   "outputs": [
    {
     "data": {
      "text/plain": [
       "[2, 3, 4, 5]"
      ]
     },
     "execution_count": 183,
     "metadata": {},
     "output_type": "execute_result"
    }
   ],
   "source": [
    "[n for n in numbers if n >= 2]"
   ]
  },
  {
   "cell_type": "code",
   "execution_count": 184,
   "id": "bearing-textbook",
   "metadata": {},
   "outputs": [
    {
     "data": {
      "text/plain": [
       "['Ringo is my fave']"
      ]
     },
     "execution_count": 184,
     "metadata": {},
     "output_type": "execute_result"
    }
   ],
   "source": [
    "[beatle + \" is my fave\" for beatle in beatles if beatle == \"Ringo\"]"
   ]
  },
  {
   "cell_type": "code",
   "execution_count": 185,
   "id": "laden-implement",
   "metadata": {},
   "outputs": [
    {
     "data": {
      "text/plain": [
       "['Paul is my fave', 'John is my fave', 'George is my fave']"
      ]
     },
     "execution_count": 185,
     "metadata": {},
     "output_type": "execute_result"
    }
   ],
   "source": [
    "[beatle + \" is my fave\" for beatle in beatles if beatle != \"Ringo\"]"
   ]
  },
  {
   "cell_type": "code",
   "execution_count": null,
   "id": "neural-occurrence",
   "metadata": {},
   "outputs": [],
   "source": []
  }
 ],
 "metadata": {
  "kernelspec": {
   "display_name": "Python 3",
   "language": "python",
   "name": "python3"
  },
  "language_info": {
   "codemirror_mode": {
    "name": "ipython",
    "version": 3
   },
   "file_extension": ".py",
   "mimetype": "text/x-python",
   "name": "python",
   "nbconvert_exporter": "python",
   "pygments_lexer": "ipython3",
   "version": "3.7.3"
  }
 },
 "nbformat": 4,
 "nbformat_minor": 5
}
