{
 "cells": [
  {
   "cell_type": "code",
   "execution_count": 1,
   "id": "respected-cotton",
   "metadata": {},
   "outputs": [],
   "source": [
    "drinks = [\n",
    "    {\n",
    "        \"type\": \"water\",\n",
    "        \"calories\": 0,\n",
    "        \"number_consumed\": 5\n",
    "    },\n",
    "    {\n",
    "        \"type\": \"orange juice\",\n",
    "        \"calories\": 220,\n",
    "        \"number_consumed\": 3\n",
    "    },\n",
    "    {\n",
    "        \"type\": \"gatorade\",\n",
    "        \"calories\": 140,\n",
    "        \"number_consumed\": 1\n",
    "    }\n",
    "]"
   ]
  },
  {
   "cell_type": "code",
   "execution_count": 2,
   "id": "clean-malawi",
   "metadata": {},
   "outputs": [
    {
     "data": {
      "text/plain": [
       "[{'type': 'water', 'calories': 0, 'number_consumed': 5},\n",
       " {'type': 'orange juice', 'calories': 220, 'number_consumed': 3},\n",
       " {'type': 'gatorade', 'calories': 140, 'number_consumed': 1}]"
      ]
     },
     "execution_count": 2,
     "metadata": {},
     "output_type": "execute_result"
    }
   ],
   "source": [
    "drinks"
   ]
  },
  {
   "cell_type": "code",
   "execution_count": 3,
   "id": "increasing-demonstration",
   "metadata": {},
   "outputs": [
    {
     "data": {
      "text/plain": [
       "{'type': 'water', 'calories': 0, 'number_consumed': 5}"
      ]
     },
     "execution_count": 3,
     "metadata": {},
     "output_type": "execute_result"
    }
   ],
   "source": [
    "# Exercise 1\n",
    "# Loop through the list of dictionaries to print out the total number of calories consumed for each beverage type\n",
    "# Planning:\n",
    "# calories * number of units consume = total for that beverage type\n",
    "\n",
    "\n",
    "# One weird trick to solving looping problems == blow off the loop, forgetaboutit\n",
    "# How do we blow off the loop?\n",
    "# Make a variable holding only the first item\n",
    "drink = drinks[0]\n",
    "drink"
   ]
  },
  {
   "cell_type": "code",
   "execution_count": 4,
   "id": "lesbian-peace",
   "metadata": {},
   "outputs": [
    {
     "name": "stdout",
     "output_type": "stream",
     "text": [
      "0 is the total calories from drinking 5 units of water\n"
     ]
    }
   ],
   "source": [
    "drinktype = drink[\"type\"]\n",
    "calories = drink[\"calories\"]\n",
    "number_consumed = drink[\"number_consumed\"]\n",
    "total_calories = number_consumed * calories\n",
    "print(f\"{total_calories} is the total calories from drinking {number_consumed} units of {drinktype}\")"
   ]
  },
  {
   "cell_type": "code",
   "execution_count": 5,
   "id": "developmental-maria",
   "metadata": {},
   "outputs": [
    {
     "name": "stdout",
     "output_type": "stream",
     "text": [
      "0 is the total calories from drinking 5 units of water\n",
      "660 is the total calories from drinking 3 units of orange juice\n",
      "140 is the total calories from drinking 1 units of gatorade\n"
     ]
    }
   ],
   "source": [
    "for drink in drinks:\n",
    "    drinktype = drink[\"type\"]\n",
    "    calories = drink[\"calories\"]\n",
    "    number_consumed = drink[\"number_consumed\"]\n",
    "    total_calories = number_consumed * calories\n",
    "    print(f\"{total_calories} is the total calories from drinking {number_consumed} units of {drinktype}\")"
   ]
  },
  {
   "cell_type": "code",
   "execution_count": 6,
   "id": "smooth-flour",
   "metadata": {},
   "outputs": [],
   "source": [
    "# list of lists\n",
    "x = [\n",
    "    [1, 2, 3],\n",
    "    [2, 3, 4]\n",
    "]"
   ]
  },
  {
   "cell_type": "code",
   "execution_count": 7,
   "id": "sufficient-monroe",
   "metadata": {},
   "outputs": [
    {
     "data": {
      "text/plain": [
       "[1, 2, 3]"
      ]
     },
     "execution_count": 7,
     "metadata": {},
     "output_type": "execute_result"
    }
   ],
   "source": [
    "first_row = x[0]\n",
    "first_row"
   ]
  },
  {
   "cell_type": "code",
   "execution_count": 8,
   "id": "accredited-anger",
   "metadata": {},
   "outputs": [
    {
     "data": {
      "text/plain": [
       "2"
      ]
     },
     "execution_count": 8,
     "metadata": {},
     "output_type": "execute_result"
    }
   ],
   "source": [
    "# Second element of the first row?\n",
    "first_row[1]"
   ]
  },
  {
   "cell_type": "code",
   "execution_count": 9,
   "id": "civil-rugby",
   "metadata": {},
   "outputs": [
    {
     "data": {
      "text/plain": [
       "2"
      ]
     },
     "execution_count": 9,
     "metadata": {},
     "output_type": "execute_result"
    }
   ],
   "source": [
    "# Second element of the first row?\n",
    "x[0][1]"
   ]
  },
  {
   "cell_type": "code",
   "execution_count": 10,
   "id": "mature-hobby",
   "metadata": {},
   "outputs": [
    {
     "data": {
      "text/plain": [
       "['john', 'ringo', 'george', 'paul']"
      ]
     },
     "execution_count": 10,
     "metadata": {},
     "output_type": "execute_result"
    }
   ],
   "source": [
    "beatles = [\n",
    "    \"john\",\n",
    "    \"ringo\",\n",
    "    \"george\",\n",
    "    \"paul\"\n",
    "]\n",
    "beatles"
   ]
  },
  {
   "cell_type": "code",
   "execution_count": 11,
   "id": "twenty-heavy",
   "metadata": {},
   "outputs": [
    {
     "data": {
      "text/plain": [
       "'ringo'"
      ]
     },
     "execution_count": 11,
     "metadata": {},
     "output_type": "execute_result"
    }
   ],
   "source": [
    "# Let's access the last character of the second string on the list\n",
    "second_on_list = beatles[1]\n",
    "second_on_list "
   ]
  },
  {
   "cell_type": "code",
   "execution_count": 12,
   "id": "dramatic-annotation",
   "metadata": {
    "scrolled": true
   },
   "outputs": [
    {
     "data": {
      "text/plain": [
       "'o'"
      ]
     },
     "execution_count": 12,
     "metadata": {},
     "output_type": "execute_result"
    }
   ],
   "source": [
    "# Let's access the last character of the second string on the list\n",
    "\n",
    "second_on_list[-1]"
   ]
  },
  {
   "cell_type": "code",
   "execution_count": 13,
   "id": "hazardous-guest",
   "metadata": {},
   "outputs": [
    {
     "data": {
      "text/plain": [
       "'o'"
      ]
     },
     "execution_count": 13,
     "metadata": {},
     "output_type": "execute_result"
    }
   ],
   "source": [
    "beatles[1] # gives us the second string on the list\n",
    "beatles[1][-1] # gives us the last character of the second stirng on the list of beatles"
   ]
  },
  {
   "cell_type": "code",
   "execution_count": 14,
   "id": "earlier-slave",
   "metadata": {},
   "outputs": [
    {
     "data": {
      "text/plain": [
       "{'fundamentals': {'beginning': 'data science pipeline',\n",
       "  'middle': 'ds skills in demand',\n",
       "  'end': 'git'},\n",
       " 'sql': {'beginning': 'what is sql?',\n",
       "  'middle': 'joins and subqueries',\n",
       "  'end': 'case'},\n",
       " 'python': {'beginning': 'how to run python',\n",
       "  'middle': 'loops and data structures',\n",
       "  'end': 'python assessment'}}"
      ]
     },
     "execution_count": 14,
     "metadata": {},
     "output_type": "execute_result"
    }
   ],
   "source": [
    "ds_topics = {\n",
    "    \"fundamentals\": {\n",
    "        \"beginning\": \"data science pipeline\",\n",
    "        \"middle\": \"ds skills in demand\",\n",
    "        \"end\": \"git\"\n",
    "    },\n",
    "    \"sql\": {\n",
    "        \"beginning\": \"what is sql?\",\n",
    "        \"middle\": \"joins and subqueries\",\n",
    "        \"end\": \"case\"\n",
    "    },\n",
    "    \"python\": {\n",
    "        \"beginning\": \"how to run python\",\n",
    "        \"middle\": \"loops and data structures\",\n",
    "        \"end\": \"python assessment\"\n",
    "    }\n",
    "}\n",
    "ds_topics"
   ]
  },
  {
   "cell_type": "code",
   "execution_count": 15,
   "id": "pediatric-sailing",
   "metadata": {},
   "outputs": [
    {
     "data": {
      "text/plain": [
       "{'fundamentals': {'beginning': 'data science pipeline',\n",
       "  'middle': 'ds skills in demand',\n",
       "  'end': 'git'},\n",
       " 'sql': {'beginning': 'what is sql?',\n",
       "  'middle': 'joins and subqueries',\n",
       "  'end': 'case'},\n",
       " 'python': {'beginning': 'how to run python',\n",
       "  'middle': 'loops and data structures',\n",
       "  'end': 'python assessment'}}"
      ]
     },
     "execution_count": 15,
     "metadata": {},
     "output_type": "execute_result"
    }
   ],
   "source": [
    "ds_topics"
   ]
  },
  {
   "cell_type": "code",
   "execution_count": 16,
   "id": "understood-superior",
   "metadata": {},
   "outputs": [
    {
     "data": {
      "text/plain": [
       "{'beginning': 'how to run python',\n",
       " 'middle': 'loops and data structures',\n",
       " 'end': 'python assessment'}"
      ]
     },
     "execution_count": 16,
     "metadata": {},
     "output_type": "execute_result"
    }
   ],
   "source": [
    "# Directly access the middle topic of the python module\n",
    "ds_topics[\"python\"]"
   ]
  },
  {
   "cell_type": "code",
   "execution_count": 17,
   "id": "collectible-france",
   "metadata": {},
   "outputs": [
    {
     "data": {
      "text/plain": [
       "'loops and data structures'"
      ]
     },
     "execution_count": 17,
     "metadata": {},
     "output_type": "execute_result"
    }
   ],
   "source": [
    "python_module = ds_topics[\"python\"]\n",
    "python_module[\"middle\"]"
   ]
  },
  {
   "cell_type": "code",
   "execution_count": 18,
   "id": "mental-trinity",
   "metadata": {},
   "outputs": [
    {
     "data": {
      "text/plain": [
       "'loops and data structures'"
      ]
     },
     "execution_count": 18,
     "metadata": {},
     "output_type": "execute_result"
    }
   ],
   "source": [
    "ds_topics[\"python\"][\"middle\"]"
   ]
  },
  {
   "cell_type": "code",
   "execution_count": 19,
   "id": "choice-safety",
   "metadata": {},
   "outputs": [
    {
     "data": {
      "text/plain": [
       "{'beginning': 'how to run python',\n",
       " 'middle': 'loops and data structures',\n",
       " 'end': 'python assessment'}"
      ]
     },
     "execution_count": 19,
     "metadata": {},
     "output_type": "execute_result"
    }
   ],
   "source": [
    "ds_topics.get(\"python\")"
   ]
  },
  {
   "cell_type": "code",
   "execution_count": 20,
   "id": "stupid-lexington",
   "metadata": {},
   "outputs": [
    {
     "data": {
      "text/plain": [
       "'loops and data structures'"
      ]
     },
     "execution_count": 20,
     "metadata": {},
     "output_type": "execute_result"
    }
   ],
   "source": [
    "ds_topics.get(\"python\").get(\"middle\")"
   ]
  },
  {
   "cell_type": "code",
   "execution_count": 21,
   "id": "bound-publication",
   "metadata": {},
   "outputs": [
    {
     "data": {
      "text/plain": [
       "{'fundamentals': {'beginning': 'data science pipeline',\n",
       "  'middle': 'ds skills in demand',\n",
       "  'end': 'git'},\n",
       " 'sql': {'beginning': 'what is sql?',\n",
       "  'middle': 'joins and subqueries',\n",
       "  'end': 'case'},\n",
       " 'python': {'beginning': 'how to run python',\n",
       "  'middle': 'loops and data structures',\n",
       "  'end': 'python assessment'}}"
      ]
     },
     "execution_count": 21,
     "metadata": {},
     "output_type": "execute_result"
    }
   ],
   "source": [
    "# Use a loop to output access the middle topic of the python module\n",
    "# What if the data we're processing is WAY too big to read it all and we need to loop through hundreds/thousands\n",
    "ds_topics"
   ]
  },
  {
   "cell_type": "code",
   "execution_count": 22,
   "id": "overall-asian",
   "metadata": {},
   "outputs": [
    {
     "data": {
      "text/plain": [
       "dict_keys(['fundamentals', 'sql', 'python'])"
      ]
     },
     "execution_count": 22,
     "metadata": {},
     "output_type": "execute_result"
    }
   ],
   "source": [
    "ds_topics.keys()"
   ]
  },
  {
   "cell_type": "code",
   "execution_count": 23,
   "id": "economic-hollow",
   "metadata": {},
   "outputs": [
    {
     "data": {
      "text/plain": [
       "dict_values([{'beginning': 'data science pipeline', 'middle': 'ds skills in demand', 'end': 'git'}, {'beginning': 'what is sql?', 'middle': 'joins and subqueries', 'end': 'case'}, {'beginning': 'how to run python', 'middle': 'loops and data structures', 'end': 'python assessment'}])"
      ]
     },
     "execution_count": 23,
     "metadata": {},
     "output_type": "execute_result"
    }
   ],
   "source": [
    "# notice that .values doesn't contain \"fundamentals\", \"sql\", \"python\" b/c those are the keys\n",
    "ds_topics.values()"
   ]
  },
  {
   "cell_type": "code",
   "execution_count": 24,
   "id": "natural-retro",
   "metadata": {},
   "outputs": [
    {
     "name": "stdout",
     "output_type": "stream",
     "text": [
      "fundamentals\n",
      "sql\n",
      "python\n"
     ]
    }
   ],
   "source": [
    "# What if we need to loop through a dictionary\n",
    "for key in ds_topics.keys():\n",
    "    print(key)"
   ]
  },
  {
   "cell_type": "code",
   "execution_count": 25,
   "id": "overhead-confirmation",
   "metadata": {},
   "outputs": [
    {
     "name": "stdout",
     "output_type": "stream",
     "text": [
      "In the middle of the python lessons, we focus on loops and data structures\n"
     ]
    }
   ],
   "source": [
    "# What if we need to loop through a dictionary\n",
    "for key in ds_topics.keys():\n",
    "    if key.lower() == \"python\":\n",
    "        middle_section = ds_topics[key][\"middle\"]\n",
    "        print(f\"In the middle of the {key} lessons, we focus on {middle_section}\")"
   ]
  },
  {
   "cell_type": "code",
   "execution_count": null,
   "id": "characteristic-wagner",
   "metadata": {},
   "outputs": [],
   "source": [
    "print(\"Welcome to the Codeup syllabus application where you can look up topics!\")\n",
    "\n",
    "while True:\n",
    "    topic_choice = input(\"Please input the topic you want to know more about.\")\n",
    "\n",
    "    if topic_choice.lower() not in ds_topics.keys():\n",
    "        print(\"That topic is not in the records\")\n",
    "        continue\n",
    "    else:\n",
    "        print(f\"Looking up more on: {topic_choice} ...\")\n",
    "        break"
   ]
  },
  {
   "cell_type": "code",
   "execution_count": null,
   "id": "simple-geometry",
   "metadata": {
    "scrolled": true
   },
   "outputs": [],
   "source": [
    "while True:\n",
    "    module_choice = input(\"Please input 'beginning', 'middle', or 'end' to output which part of that module to look up\")\n",
    "    \n",
    "    if module_choice not in ds_topics[topic_choice].keys():\n",
    "        print(\"That module portion is not in the records\")\n",
    "        continue\n",
    "    else:\n",
    "        selection = ds_topics[topic_choice][module_choice]\n",
    "        break\n",
    "\n",
    "print(f\"In the {module_choice} part of the {topic_choice} curriculum, we cover {selection}\")"
   ]
  },
  {
   "cell_type": "code",
   "execution_count": null,
   "id": "reserved-payroll",
   "metadata": {},
   "outputs": [],
   "source": []
  }
 ],
 "metadata": {
  "kernelspec": {
   "display_name": "Python 3",
   "language": "python",
   "name": "python3"
  },
  "language_info": {
   "codemirror_mode": {
    "name": "ipython",
    "version": 3
   },
   "file_extension": ".py",
   "mimetype": "text/x-python",
   "name": "python",
   "nbconvert_exporter": "python",
   "pygments_lexer": "ipython3",
   "version": "3.7.3"
  }
 },
 "nbformat": 4,
 "nbformat_minor": 5
}
