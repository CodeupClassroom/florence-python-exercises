{
 "cells": [
  {
   "cell_type": "markdown",
   "metadata": {},
   "source": [
    "Exercises\n",
    "\n",
    "Do your work for this exercise in a file named control_structures_exercises.py.\n",
    "1. Conditional Basics"
   ]
  },
  {
   "cell_type": "markdown",
   "metadata": {},
   "source": [
    "        a. prompt the user for a day of the week, print out whether the day is Monday or not"
   ]
  },
  {
   "cell_type": "code",
   "execution_count": 13,
   "metadata": {},
   "outputs": [
    {
     "name": "stdin",
     "output_type": "stream",
     "text": [
      "Please input a day of week:  saturDay\n"
     ]
    }
   ],
   "source": [
    "day_of_week = input('Please input a day of week: ')"
   ]
  },
  {
   "cell_type": "code",
   "execution_count": 14,
   "metadata": {},
   "outputs": [
    {
     "data": {
      "text/plain": [
       "'saturDay'"
      ]
     },
     "execution_count": 14,
     "metadata": {},
     "output_type": "execute_result"
    }
   ],
   "source": [
    "day_of_week"
   ]
  },
  {
   "cell_type": "code",
   "execution_count": 11,
   "metadata": {},
   "outputs": [
    {
     "name": "stdout",
     "output_type": "stream",
     "text": [
      "lasagna\n"
     ]
    }
   ],
   "source": [
    "if day_of_week.lower() == 'monday':\n",
    "    print('lasagna')\n",
    "else:\n",
    "    print('not monday')"
   ]
  },
  {
   "cell_type": "markdown",
   "metadata": {},
   "source": [
    "        b. prompt the user for a day of the week, print out whether the day is a weekday or a weekend"
   ]
  },
  {
   "cell_type": "code",
   "execution_count": 15,
   "metadata": {},
   "outputs": [
    {
     "name": "stdout",
     "output_type": "stream",
     "text": [
      "weekend\n"
     ]
    }
   ],
   "source": [
    "if day_of_week.lower().startswith('s'):\n",
    "    print('weekend')\n",
    "else:\n",
    "    print('weekday')"
   ]
  },
  {
   "cell_type": "code",
   "execution_count": null,
   "metadata": {},
   "outputs": [],
   "source": []
  },
  {
   "cell_type": "markdown",
   "metadata": {},
   "source": [
    "        c. create variables and make up values for\n",
    "            the number of hours worked in one week\n",
    "            the hourly rate\n",
    "            how much the week's paycheck will be"
   ]
  },
  {
   "cell_type": "code",
   "execution_count": 16,
   "metadata": {},
   "outputs": [],
   "source": [
    "hours_worked_in_week = 42\n",
    "hourly_rate = 14.89"
   ]
  },
  {
   "cell_type": "markdown",
   "metadata": {},
   "source": [
    "        write the python code that calculates the weekly paycheck. You get paid time and a half if you work more than 40 hours"
   ]
  },
  {
   "cell_type": "code",
   "execution_count": 18,
   "metadata": {},
   "outputs": [
    {
     "name": "stdout",
     "output_type": "stream",
     "text": [
      "made it here\n",
      "640.27\n"
     ]
    }
   ],
   "source": [
    "if hours_worked_in_week <=40:\n",
    "    paycheck = hours_worked_in_week * hourly_rate\n",
    "else:\n",
    "    print('made it here')\n",
    "    paycheck = hourly_rate * (((hours_worked_in_week - 40) * 1.5) + 40)\n",
    "print(paycheck)"
   ]
  },
  {
   "cell_type": "code",
   "execution_count": null,
   "metadata": {},
   "outputs": [],
   "source": []
  },
  {
   "cell_type": "markdown",
   "metadata": {},
   "source": [
    "2. Loop Basics"
   ]
  },
  {
   "cell_type": "markdown",
   "metadata": {},
   "source": [
    "        a. While\n",
    "            Create an integer variable i with a value of 5.\n",
    "            Create a while loop that runs so long as i is less than or equal to 15\n",
    "            Each loop iteration, output the current value of i, then increment i by one.\n",
    "\n",
    "        Your output should look like this:\n",
    "\n",
    "    5\n",
    "    6\n",
    "    7\n",
    "    8\n",
    "    9\n",
    "    10\n",
    "    11\n",
    "    12\n",
    "    13\n",
    "    14\n",
    "    15"
   ]
  },
  {
   "cell_type": "code",
   "execution_count": 19,
   "metadata": {},
   "outputs": [
    {
     "name": "stdout",
     "output_type": "stream",
     "text": [
      "5\n",
      "6\n",
      "7\n",
      "8\n",
      "9\n",
      "10\n",
      "11\n",
      "12\n",
      "13\n",
      "14\n",
      "15\n"
     ]
    }
   ],
   "source": [
    "i = 5\n",
    "while i < 16:\n",
    "    print(i)\n",
    "    i += 1\n",
    "#     i = i + 1\n",
    "# not gonna happen: i++"
   ]
  },
  {
   "cell_type": "code",
   "execution_count": null,
   "metadata": {},
   "outputs": [],
   "source": []
  },
  {
   "cell_type": "markdown",
   "metadata": {},
   "source": [
    "    Create a while loop that will count by 2's starting with 0 and ending at 100. Follow each number with a new line.\n",
    "    Alter your loop to count backwards by 5's from 100 to -10."
   ]
  },
  {
   "cell_type": "code",
   "execution_count": 23,
   "metadata": {},
   "outputs": [
    {
     "name": "stdout",
     "output_type": "stream",
     "text": [
      "100\n",
      "95\n",
      "90\n",
      "85\n",
      "80\n",
      "75\n",
      "70\n",
      "65\n",
      "60\n",
      "55\n",
      "50\n",
      "45\n",
      "40\n",
      "35\n",
      "30\n",
      "25\n",
      "20\n",
      "15\n",
      "10\n",
      "5\n",
      "0\n",
      "-5\n",
      "-10\n"
     ]
    }
   ],
   "source": [
    "i = 100\n",
    "while i >= -10:\n",
    "    print(i)\n",
    "    i += -5"
   ]
  },
  {
   "cell_type": "code",
   "execution_count": 20,
   "metadata": {},
   "outputs": [
    {
     "name": "stdout",
     "output_type": "stream",
     "text": [
      "0\n",
      "2\n",
      "4\n",
      "6\n",
      "8\n",
      "10\n",
      "12\n",
      "14\n",
      "16\n",
      "18\n",
      "20\n",
      "22\n",
      "24\n",
      "26\n",
      "28\n",
      "30\n",
      "32\n",
      "34\n",
      "36\n",
      "38\n",
      "40\n",
      "42\n",
      "44\n",
      "46\n",
      "48\n",
      "50\n",
      "52\n",
      "54\n",
      "56\n",
      "58\n",
      "60\n",
      "62\n",
      "64\n",
      "66\n",
      "68\n",
      "70\n",
      "72\n",
      "74\n",
      "76\n",
      "78\n",
      "80\n",
      "82\n",
      "84\n",
      "86\n",
      "88\n",
      "90\n",
      "92\n",
      "94\n",
      "96\n",
      "98\n",
      "100\n"
     ]
    }
   ],
   "source": [
    "i = 0\n",
    "while i < 101:\n",
    "    print(i)\n",
    "    i += 2"
   ]
  },
  {
   "cell_type": "markdown",
   "metadata": {},
   "source": [
    "    Create a while loop that starts at 2, and displays the number squared on each line while the number is less than 1,000,000. Output should equal:\n",
    "\n",
    "     2\n",
    "     4\n",
    "     16\n",
    "     256\n",
    "     65536"
   ]
  },
  {
   "cell_type": "code",
   "execution_count": 24,
   "metadata": {},
   "outputs": [
    {
     "name": "stdout",
     "output_type": "stream",
     "text": [
      "2\n",
      "4\n",
      "16\n",
      "256\n",
      "65536\n"
     ]
    }
   ],
   "source": [
    "i = 2\n",
    "while i < 1_000_000:\n",
    "    print(i)\n",
    "    i **= 2"
   ]
  },
  {
   "cell_type": "markdown",
   "metadata": {},
   "source": [
    "    Write a loop that uses print to create the output shown below.\n",
    "\n",
    "    100\n",
    "    95\n",
    "    90\n",
    "    85\n",
    "    80\n",
    "    75\n",
    "    70\n",
    "    65\n",
    "    60\n",
    "    55\n",
    "    50\n",
    "    45\n",
    "    40\n",
    "    35\n",
    "    30\n",
    "    25\n",
    "    20\n",
    "    15\n",
    "    10\n",
    "    5"
   ]
  },
  {
   "cell_type": "code",
   "execution_count": 25,
   "metadata": {},
   "outputs": [
    {
     "name": "stdout",
     "output_type": "stream",
     "text": [
      "100\n",
      "95\n",
      "90\n",
      "85\n",
      "80\n",
      "75\n",
      "70\n",
      "65\n",
      "60\n",
      "55\n",
      "50\n",
      "45\n",
      "40\n",
      "35\n",
      "30\n",
      "25\n",
      "20\n",
      "15\n",
      "10\n",
      "5\n"
     ]
    }
   ],
   "source": [
    "i = 100\n",
    "while i >= 5:\n",
    "    print(i)\n",
    "    i += -5"
   ]
  },
  {
   "cell_type": "markdown",
   "metadata": {},
   "source": [
    "b. For Loops\n",
    "\n",
    "    Write some code that prompts the user for a number, then shows a multiplication table up through 10 for that number.\n",
    "\n",
    "    For example, if the user enters 7, your program should output:\n",
    "\n",
    "    7 x 1 = 7\n",
    "    7 x 2 = 14\n",
    "    7 x 3 = 21\n",
    "    7 x 4 = 28\n",
    "    7 x 5 = 35\n",
    "    7 x 6 = 42\n",
    "    7 x 7 = 49\n",
    "    7 x 8 = 56\n",
    "    7 x 9 = 63\n",
    "    7 x 10 = 70"
   ]
  },
  {
   "cell_type": "code",
   "execution_count": 31,
   "metadata": {},
   "outputs": [
    {
     "name": "stdin",
     "output_type": "stream",
     "text": [
      "Please insert a positive integer  7\n"
     ]
    }
   ],
   "source": [
    "proposed_num = input('Please insert a positive integer ')"
   ]
  },
  {
   "cell_type": "code",
   "execution_count": 27,
   "metadata": {},
   "outputs": [
    {
     "data": {
      "text/plain": [
       "str"
      ]
     },
     "execution_count": 27,
     "metadata": {},
     "output_type": "execute_result"
    }
   ],
   "source": [
    "type(proposed_num)"
   ]
  },
  {
   "cell_type": "code",
   "execution_count": 28,
   "metadata": {},
   "outputs": [],
   "source": [
    "proposed_num = int(proposed_num)"
   ]
  },
  {
   "cell_type": "code",
   "execution_count": 29,
   "metadata": {},
   "outputs": [
    {
     "data": {
      "text/plain": [
       "int"
      ]
     },
     "execution_count": 29,
     "metadata": {},
     "output_type": "execute_result"
    }
   ],
   "source": [
    "type(proposed_num)"
   ]
  },
  {
   "cell_type": "code",
   "execution_count": 30,
   "metadata": {},
   "outputs": [
    {
     "name": "stdout",
     "output_type": "stream",
     "text": [
      "7 X 1 = 7\n",
      "7 X 2 = 14\n",
      "7 X 3 = 21\n",
      "7 X 4 = 28\n",
      "7 X 5 = 35\n",
      "7 X 6 = 42\n",
      "7 X 7 = 49\n",
      "7 X 8 = 56\n",
      "7 X 9 = 63\n",
      "7 X 10 = 70\n"
     ]
    }
   ],
   "source": [
    "for n in range(1,11):\n",
    "    print(f'{proposed_num} X {n} = {proposed_num * n}')"
   ]
  },
  {
   "cell_type": "markdown",
   "metadata": {},
   "source": [
    "Create a for loop that uses print to create the output shown below.\n",
    "\n",
    "    1\n",
    "    22\n",
    "    333\n",
    "    4444\n",
    "    55555\n",
    "    666666\n",
    "    7777777\n",
    "    88888888\n",
    "    999999999"
   ]
  },
  {
   "cell_type": "code",
   "execution_count": null,
   "metadata": {},
   "outputs": [],
   "source": []
  },
  {
   "cell_type": "code",
   "execution_count": 36,
   "metadata": {},
   "outputs": [
    {
     "name": "stdout",
     "output_type": "stream",
     "text": [
      "1\n",
      "22\n",
      "333\n",
      "4444\n",
      "55555\n",
      "666666\n",
      "7777777\n",
      "88888888\n",
      "999999999\n"
     ]
    }
   ],
   "source": [
    "for n in range(1,10):\n",
    "    print(str(n) * n)"
   ]
  },
  {
   "cell_type": "markdown",
   "metadata": {},
   "source": [
    "c. break and continue\n",
    "\n",
    "    Prompt the user for an odd number between 1 and 50. Use a loop and a break statement to continue prompting the user if they enter invalid input. (Hint: use the isdigit method on strings to determine this). Use a loop and the continue statement to output all the odd numbers between 1 and 50, except for the number the user entered.\n",
    "\n",
    "    Your output should look like this:\n",
    "\n",
    "        Number to skip is: 27\n",
    "\n",
    "        Here is an odd number: 1\n",
    "        Here is an odd number: 3\n",
    "        Here is an odd number: 5\n",
    "        Here is an odd number: 7\n",
    "        Here is an odd number: 9\n",
    "        Here is an odd number: 11\n",
    "        Here is an odd number: 13\n",
    "        Here is an odd number: 15\n",
    "        Here is an odd number: 17\n",
    "        Here is an odd number: 19\n",
    "        Here is an odd number: 21\n",
    "        Here is an odd number: 23\n",
    "        Here is an odd number: 25\n",
    "        Yikes! Skipping number: 27\n",
    "        Here is an odd number: 29\n",
    "        Here is an odd number: 31\n",
    "        Here is an odd number: 33\n",
    "        Here is an odd number: 35\n",
    "        Here is an odd number: 37\n",
    "        Here is an odd number: 39\n",
    "        Here is an odd number: 41\n",
    "        Here is an odd number: 43\n",
    "        Here is an odd number: 45\n",
    "        Here is an odd number: 47\n",
    "        Here is an odd number: 49"
   ]
  },
  {
   "cell_type": "code",
   "execution_count": 38,
   "metadata": {},
   "outputs": [
    {
     "name": "stdin",
     "output_type": "stream",
     "text": [
      "Please insert an odd number between 1 and 50:  kjajsf\n",
      "Please insert an odd number between 1 and 50:  skdjfhal\n",
      "Please insert an odd number between 1 and 50:  kjshlf\n",
      "Please insert an odd number between 1 and 50:  22\n",
      "Please insert an odd number between 1 and 50:  51\n",
      "Please insert an odd number between 1 and 50:  33\n"
     ]
    }
   ],
   "source": [
    "while True:\n",
    "    posited_num = input('Please insert an odd number between 1 and 50: ')\n",
    "    if posited_num.isdigit():\n",
    "        if int(posited_num) % 2 == 1 and int(posited_num) <= 50:\n",
    "            break"
   ]
  },
  {
   "cell_type": "code",
   "execution_count": 41,
   "metadata": {},
   "outputs": [
    {
     "data": {
      "text/plain": [
       "'33'"
      ]
     },
     "execution_count": 41,
     "metadata": {},
     "output_type": "execute_result"
    }
   ],
   "source": [
    "posited_num"
   ]
  },
  {
   "cell_type": "code",
   "execution_count": 42,
   "metadata": {},
   "outputs": [
    {
     "name": "stdout",
     "output_type": "stream",
     "text": [
      "Here is an odd number:  1\n",
      "Here is an odd number:  3\n",
      "Here is an odd number:  5\n",
      "Here is an odd number:  7\n",
      "Here is an odd number:  9\n",
      "Here is an odd number:  11\n",
      "Here is an odd number:  13\n",
      "Here is an odd number:  15\n",
      "Here is an odd number:  17\n",
      "Here is an odd number:  19\n",
      "Here is an odd number:  21\n",
      "Here is an odd number:  23\n",
      "Here is an odd number:  25\n",
      "Here is an odd number:  27\n",
      "Here is an odd number:  29\n",
      "Here is an odd number:  31\n",
      "Yikes! Skipping number:  33\n",
      "Here is an odd number:  35\n",
      "Here is an odd number:  37\n",
      "Here is an odd number:  39\n",
      "Here is an odd number:  41\n",
      "Here is an odd number:  43\n",
      "Here is an odd number:  45\n",
      "Here is an odd number:  47\n",
      "Here is an odd number:  49\n"
     ]
    }
   ],
   "source": [
    "posited_num = int(posited_num)\n",
    "for num in range(1, 50, 2):\n",
    "    if num == posited_num:\n",
    "        print('Yikes! Skipping number: ', num)\n",
    "    else:\n",
    "        print('Here is an odd number: ', num)"
   ]
  },
  {
   "cell_type": "code",
   "execution_count": 40,
   "metadata": {},
   "outputs": [],
   "source": [
    "# posited_num = input('Please insert a digit that is odd and under 50')"
   ]
  },
  {
   "cell_type": "code",
   "execution_count": 39,
   "metadata": {},
   "outputs": [],
   "source": [
    "# while not posited_num.isdigit():\n",
    "#     posited_num = input('Your input did not meet the qualifications. Please enter a digit that is odd and under 50')\n",
    "#     if posited_num.isdigit():\n",
    "#         while int(posited_num) % 2 ==0 or int(posited_num) >50:\n",
    "#             posited_num = 'try again'\n",
    "#             break"
   ]
  },
  {
   "cell_type": "markdown",
   "metadata": {},
   "source": [
    "    d. The input function can be used to prompt for input and use that input in your python code. Prompt the user to enter a positive number and write a loop that counts from 0 to that number. (Hints: first make sure that the value the user entered is a valid number, also note that the input function returns a string, so you'll need to convert this to a numeric type.)"
   ]
  },
  {
   "cell_type": "code",
   "execution_count": 45,
   "metadata": {},
   "outputs": [
    {
     "name": "stdin",
     "output_type": "stream",
     "text": [
      "Please insert a positive integer:  hamsandwich\n",
      "Please insert a positive integer:  75\n"
     ]
    },
    {
     "name": "stdout",
     "output_type": "stream",
     "text": [
      "0\n",
      "1\n",
      "2\n",
      "3\n",
      "4\n",
      "5\n",
      "6\n",
      "7\n",
      "8\n",
      "9\n",
      "10\n",
      "11\n",
      "12\n",
      "13\n",
      "14\n",
      "15\n",
      "16\n",
      "17\n",
      "18\n",
      "19\n",
      "20\n",
      "21\n",
      "22\n",
      "23\n",
      "24\n",
      "25\n",
      "26\n",
      "27\n",
      "28\n",
      "29\n",
      "30\n",
      "31\n",
      "32\n",
      "33\n",
      "34\n",
      "35\n",
      "36\n",
      "37\n",
      "38\n",
      "39\n",
      "40\n",
      "41\n",
      "42\n",
      "43\n",
      "44\n",
      "45\n",
      "46\n",
      "47\n",
      "48\n",
      "49\n",
      "50\n",
      "51\n",
      "52\n",
      "53\n",
      "54\n",
      "55\n",
      "56\n",
      "57\n",
      "58\n",
      "59\n",
      "60\n",
      "61\n",
      "62\n",
      "63\n",
      "64\n",
      "65\n",
      "66\n",
      "67\n",
      "68\n",
      "69\n",
      "70\n",
      "71\n",
      "72\n",
      "73\n",
      "74\n",
      "75\n"
     ]
    }
   ],
   "source": [
    "while True:\n",
    "    posited_num = input('Please insert a positive integer: ')\n",
    "    if posited_num.isdigit():\n",
    "        if int(posited_num) > 0:\n",
    "            break\n",
    "posited_num = int(posited_num)\n",
    "for num in range(0, posited_num + 1):\n",
    "    print(num)"
   ]
  },
  {
   "cell_type": "code",
   "execution_count": null,
   "metadata": {},
   "outputs": [],
   "source": []
  },
  {
   "cell_type": "markdown",
   "metadata": {},
   "source": [
    "    e. Write a program that prompts the user for a positive integer. Next write a loop that prints out the numbers from the number the user entered down to 1."
   ]
  },
  {
   "cell_type": "code",
   "execution_count": 46,
   "metadata": {},
   "outputs": [
    {
     "name": "stdin",
     "output_type": "stream",
     "text": [
      "Please insert a positive integer:  12\n"
     ]
    },
    {
     "name": "stdout",
     "output_type": "stream",
     "text": [
      "12\n",
      "11\n",
      "10\n",
      "9\n",
      "8\n",
      "7\n",
      "6\n",
      "5\n",
      "4\n",
      "3\n",
      "2\n",
      "1\n"
     ]
    }
   ],
   "source": [
    "while True:\n",
    "    posited_num = input('Please insert a positive integer: ')\n",
    "    if posited_num.isdigit():\n",
    "        if int(posited_num) > 0:\n",
    "            break\n",
    "posited_num = int(posited_num)\n",
    "for num in range(posited_num, 0, -1):\n",
    "    print(num)"
   ]
  },
  {
   "cell_type": "markdown",
   "metadata": {},
   "source": [
    "3. Fizzbuzz\n",
    "\n",
    "One of the most common interview questions for entry-level programmers is the FizzBuzz test. Developed by Imran Ghory, the test is designed to test basic looping and conditional logic skills.\n",
    "\n",
    "    Write a program that prints the numbers from 1 to 100.\n",
    "    For multiples of three print \"Fizz\" instead of the number\n",
    "    For the multiples of five print \"Buzz\".\n",
    "    For numbers which are multiples of both three and five print \"FizzBuzz\"."
   ]
  },
  {
   "cell_type": "code",
   "execution_count": 48,
   "metadata": {},
   "outputs": [
    {
     "name": "stdout",
     "output_type": "stream",
     "text": [
      "1\n",
      "2\n",
      "Fizz\n",
      "4\n",
      "Buzz\n",
      "Fizz\n",
      "7\n",
      "8\n",
      "Fizz\n",
      "Buzz\n",
      "11\n",
      "Fizz\n",
      "13\n",
      "14\n",
      "Fizzbuzz\n",
      "16\n",
      "17\n",
      "Fizz\n",
      "19\n",
      "Buzz\n",
      "Fizz\n",
      "22\n",
      "23\n",
      "Fizz\n",
      "Buzz\n",
      "26\n",
      "Fizz\n",
      "28\n",
      "29\n",
      "Fizzbuzz\n",
      "31\n",
      "32\n",
      "Fizz\n",
      "34\n",
      "Buzz\n",
      "Fizz\n",
      "37\n",
      "38\n",
      "Fizz\n",
      "Buzz\n",
      "41\n",
      "Fizz\n",
      "43\n",
      "44\n",
      "Fizzbuzz\n",
      "46\n",
      "47\n",
      "Fizz\n",
      "49\n",
      "Buzz\n",
      "Fizz\n",
      "52\n",
      "53\n",
      "Fizz\n",
      "Buzz\n",
      "56\n",
      "Fizz\n",
      "58\n",
      "59\n",
      "Fizzbuzz\n",
      "61\n",
      "62\n",
      "Fizz\n",
      "64\n",
      "Buzz\n",
      "Fizz\n",
      "67\n",
      "68\n",
      "Fizz\n",
      "Buzz\n",
      "71\n",
      "Fizz\n",
      "73\n",
      "74\n",
      "Fizzbuzz\n",
      "76\n",
      "77\n",
      "Fizz\n",
      "79\n",
      "Buzz\n",
      "Fizz\n",
      "82\n",
      "83\n",
      "Fizz\n",
      "Buzz\n",
      "86\n",
      "Fizz\n",
      "88\n",
      "89\n",
      "Fizzbuzz\n",
      "91\n",
      "92\n",
      "Fizz\n",
      "94\n",
      "Buzz\n",
      "Fizz\n",
      "97\n",
      "98\n",
      "Fizz\n",
      "Buzz\n"
     ]
    }
   ],
   "source": [
    "for i in range(1, 101):\n",
    "    if i % 3 == 0 and i % 5 == 0:\n",
    "        print('Fizzbuzz')\n",
    "    elif i % 3 == 0:\n",
    "        print('Fizz')\n",
    "    elif i % 5 == 0:\n",
    "        print('Buzz')\n",
    "    else:\n",
    "        print(i)"
   ]
  },
  {
   "cell_type": "markdown",
   "metadata": {},
   "source": [
    "4. Display a table of powers.\n",
    "\n",
    "    Prompt the user to enter an integer.\n",
    "    Display a table of squares and cubes from 1 to the value entered.\n",
    "    Ask if the user wants to continue.\n",
    "    Assume that the user will enter valid data.\n",
    "    Only continue if the user agrees to.\n",
    "\n",
    "Example Output\n",
    "\n",
    "What number would you like to go up to? 5\n",
    "\n",
    "Here is your table!\n",
    "\n",
    "number | squared | cubed\n",
    "------ | ------- | -----\n",
    "1      | 1       | 1\n",
    "2      | 4       | 8\n",
    "3      | 9       | 27\n",
    "4      | 16      | 64\n",
    "5      | 25      | 125\n",
    "\n",
    "Bonus: Research python's format string specifiers to align the table"
   ]
  },
  {
   "cell_type": "code",
   "execution_count": 49,
   "metadata": {},
   "outputs": [
    {
     "name": "stdin",
     "output_type": "stream",
     "text": [
      "Please insert a positive integer:  40\n",
      "Do you want to continue and print a table of powers? : yes\n"
     ]
    },
    {
     "name": "stdout",
     "output_type": "stream",
     "text": [
      "\n",
      "number | squared | cubed\n",
      "------ | ------- | -----\n",
      "     1 |       1 |     1\n",
      "     2 |       4 |     8\n",
      "     3 |       9 |    27\n",
      "     4 |      16 |    64\n",
      "     5 |      25 |   125\n",
      "     6 |      36 |   216\n",
      "     7 |      49 |   343\n",
      "     8 |      64 |   512\n",
      "     9 |      81 |   729\n",
      "    10 |     100 |  1000\n",
      "    11 |     121 |  1331\n",
      "    12 |     144 |  1728\n",
      "    13 |     169 |  2197\n",
      "    14 |     196 |  2744\n",
      "    15 |     225 |  3375\n",
      "    16 |     256 |  4096\n",
      "    17 |     289 |  4913\n",
      "    18 |     324 |  5832\n",
      "    19 |     361 |  6859\n",
      "    20 |     400 |  8000\n",
      "    21 |     441 |  9261\n",
      "    22 |     484 |  10648\n",
      "    23 |     529 |  12167\n",
      "    24 |     576 |  13824\n",
      "    25 |     625 |  15625\n",
      "    26 |     676 |  17576\n",
      "    27 |     729 |  19683\n",
      "    28 |     784 |  21952\n",
      "    29 |     841 |  24389\n",
      "    30 |     900 |  27000\n",
      "    31 |     961 |  29791\n",
      "    32 |    1024 |  32768\n",
      "    33 |    1089 |  35937\n",
      "    34 |    1156 |  39304\n",
      "    35 |    1225 |  42875\n",
      "    36 |    1296 |  46656\n",
      "    37 |    1369 |  50653\n",
      "    38 |    1444 |  54872\n",
      "    39 |    1521 |  59319\n",
      "    40 |    1600 |  64000\n"
     ]
    }
   ],
   "source": [
    "while True:\n",
    "    posited_num = input('Please insert a positive integer: ')\n",
    "    if posited_num.isdigit():\n",
    "        if int(posited_num) > 0:\n",
    "            break\n",
    "proceed = input('Do you want to continue and print a table of powers? :')\n",
    "if proceed.lower().startswith('y'):\n",
    "    posited_num = int(posited_num)\n",
    "    print()\n",
    "    print('number | squared | cubed')\n",
    "    print('------ | ------- | -----')\n",
    "    for i in range(1, posited_num + 1):\n",
    "        i_squared = i ** 2\n",
    "        i_cubed = i ** 3\n",
    "        print(f'{i: 6} | {i_squared: 7} | {i_cubed: 5}')"
   ]
  },
  {
   "cell_type": "code",
   "execution_count": null,
   "metadata": {},
   "outputs": [],
   "source": []
  },
  {
   "cell_type": "markdown",
   "metadata": {},
   "source": [
    "5. Convert given number grades into letter grades.\n",
    "\n",
    "    Prompt the user for a numerical grade from 0 to 100.\n",
    "    Display the corresponding letter grade.\n",
    "    Prompt the user to continue.\n",
    "    Assume that the user will enter valid integers for the grades.\n",
    "    The application should only continue if the user agrees to.\n",
    "\n",
    "    Grade Ranges:\n",
    "        A : 100 - 88\n",
    "        B : 87 - 80\n",
    "        C : 79 - 67\n",
    "        D : 66 - 60\n",
    "        F : 59 - 0\n",
    "\n",
    "Bonus\n",
    "\n",
    "    Edit your grade ranges to include pluses and minuses (ex: 99-100 = A+)."
   ]
  },
  {
   "cell_type": "code",
   "execution_count": null,
   "metadata": {},
   "outputs": [],
   "source": [
    "while True:\n",
    "    user_number = input(\"Please enter a numerical between 0 and 100\")\n",
    "    if user_number.isdigit():\n",
    "        user_number = int(user_number)\n",
    "        if user_number < 0 or user_number > 100: \n",
    "            continue\n",
    "        break"
   ]
  },
  {
   "cell_type": "code",
   "execution_count": 50,
   "metadata": {},
   "outputs": [],
   "source": [
    "grade = 63"
   ]
  },
  {
   "cell_type": "code",
   "execution_count": 51,
   "metadata": {},
   "outputs": [
    {
     "name": "stdout",
     "output_type": "stream",
     "text": [
      "yup\n"
     ]
    }
   ],
   "source": [
    "if 60 < grade < 67:\n",
    "    print('yup')"
   ]
  },
  {
   "cell_type": "code",
   "execution_count": null,
   "metadata": {},
   "outputs": [],
   "source": [
    "if grade in range(60):\n",
    "    grade = 'F'\n",
    "elif grade in range(60,67):\n",
    "    grade = 'D'\n",
    "elif grade in range(67,80):\n",
    "    grade = 'C'\n",
    "elif grade in range(80,88):\n",
    "    grade = 'B'\n",
    "else:\n",
    "    grade = 'A'"
   ]
  },
  {
   "cell_type": "markdown",
   "metadata": {},
   "source": [
    "6. Create a list of dictionaries where each dictionary represents a book that you have read. Each dictionary in the list should have the keys title, author, and genre. Loop through the list and print out information about each book.\n",
    "\n",
    "    Prompt the user to enter a genre, then loop through your books list and print out the titles of all the books in that genre."
   ]
  },
  {
   "cell_type": "code",
   "execution_count": 52,
   "metadata": {},
   "outputs": [],
   "source": [
    "bookshelf = [\n",
    "    {'title': 'Annihilation',\n",
    "    'author': 'Jeff Vandermeer',\n",
    "    'genre': 'Science Fiction'},\n",
    "    {'title': 'Octopus Pie',\n",
    "    'author': 'Maredeth Gran',\n",
    "    'genre': 'Comic'},\n",
    "    {'title': 'Cabin At the End of the World',\n",
    "    'author': 'Paul Tremblay',\n",
    "    'genre': 'Horror'},\n",
    "    {'title': 'Severance',\n",
    "    'author': 'Ling Ma',\n",
    "    'genre': 'Science Fiction'},\n",
    "]"
   ]
  },
  {
   "cell_type": "code",
   "execution_count": 54,
   "metadata": {},
   "outputs": [
    {
     "name": "stdout",
     "output_type": "stream",
     "text": [
      "title :  Annihilation\n",
      "author :  Jeff Vandermeer\n",
      "genre :  Science Fiction\n",
      "--------\n",
      "title :  Octopus Pie\n",
      "author :  Maredeth Gran\n",
      "genre :  Comic\n",
      "--------\n",
      "title :  Cabin At the End of the World\n",
      "author :  Paul Tremblay\n",
      "genre :  Horror\n",
      "--------\n",
      "title :  Severance\n",
      "author :  Ling Ma\n",
      "genre :  Science Fiction\n",
      "--------\n"
     ]
    }
   ],
   "source": [
    "for book in bookshelf:\n",
    "    [print(key,': ', book[key]) for key in book]\n",
    "    print('--------')"
   ]
  },
  {
   "cell_type": "code",
   "execution_count": 55,
   "metadata": {},
   "outputs": [
    {
     "name": "stdin",
     "output_type": "stream",
     "text": [
      "Please pick a genre and I will return the titles we have on the shelf:  Science Fiction\n"
     ]
    }
   ],
   "source": [
    "picked_genre = input('Please pick a genre and I will return the titles we have on the shelf: ')"
   ]
  },
  {
   "cell_type": "code",
   "execution_count": 56,
   "metadata": {},
   "outputs": [
    {
     "name": "stdout",
     "output_type": "stream",
     "text": [
      "I have the following titles in the genre Science Fiction:\n",
      "Annihilation\n",
      "Severance\n"
     ]
    }
   ],
   "source": [
    "matches= []\n",
    "for book in bookshelf:\n",
    "    if book['genre'].lower() == picked_genre.lower():\n",
    "        matches.append(book['title'])\n",
    "if matches == []:\n",
    "    print(\"No books in that genre right now.  Please check back later!\")\n",
    "else:\n",
    "    print(f'I have the following titles in the genre {picked_genre}:')\n",
    "    [print(match) for match in matches]"
   ]
  },
  {
   "cell_type": "code",
   "execution_count": null,
   "metadata": {},
   "outputs": [],
   "source": []
  }
 ],
 "metadata": {
  "kernelspec": {
   "display_name": "Python 3",
   "language": "python",
   "name": "python3"
  },
  "language_info": {
   "codemirror_mode": {
    "name": "ipython",
    "version": 3
   },
   "file_extension": ".py",
   "mimetype": "text/x-python",
   "name": "python",
   "nbconvert_exporter": "python",
   "pygments_lexer": "ipython3",
   "version": "3.8.2"
  }
 },
 "nbformat": 4,
 "nbformat_minor": 4
}
