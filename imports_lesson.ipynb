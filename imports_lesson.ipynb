{
 "cells": [
  {
   "cell_type": "markdown",
   "id": "found-zoning",
   "metadata": {},
   "source": [
    "# Imports\n",
    "\n",
    "Terminology\n",
    "\n",
    "- **Module**: any python script\n",
    "- **Package**: collection of modules\n",
    "- **Library**: any of the above\n",
    "\n",
    "Example: pandas is all 3\n",
    "\n",
    "Where do imports come from? modules\n",
    "\n",
    "- Python Standard Library\n",
    "- 3rd party packages\n",
    "- your own code\n",
    "\n",
    "Ways to use module contents:\n",
    "\n",
    "- import the whole module\n",
    "- import specific pieces\n",
    "- aliases"
   ]
  },
  {
   "cell_type": "markdown",
   "id": "rubber-bunny",
   "metadata": {},
   "source": [
    "## Examples"
   ]
  },
  {
   "cell_type": "markdown",
   "id": "environmental-halloween",
   "metadata": {},
   "source": [
    "Demo: Importing from the python stdlib\n",
    "\n",
    "**Note**: below are different ways to use the `ctime` function from the `time` module. In practice, you would only use one of the ways below."
   ]
  },
  {
   "cell_type": "code",
   "execution_count": null,
   "id": "necessary-irrigation",
   "metadata": {},
   "outputs": [],
   "source": [
    "import time"
   ]
  },
  {
   "cell_type": "code",
   "execution_count": null,
   "id": "funded-place",
   "metadata": {},
   "outputs": [],
   "source": [
    "time.ctime()"
   ]
  },
  {
   "cell_type": "code",
   "execution_count": null,
   "id": "surgical-background",
   "metadata": {},
   "outputs": [],
   "source": [
    "import time as t"
   ]
  },
  {
   "cell_type": "code",
   "execution_count": null,
   "id": "photographic-maple",
   "metadata": {},
   "outputs": [],
   "source": [
    "t.ctime()"
   ]
  },
  {
   "cell_type": "code",
   "execution_count": null,
   "id": "subsequent-graham",
   "metadata": {},
   "outputs": [],
   "source": [
    "from time import ctime, sleep\n",
    "\n",
    "ctime()"
   ]
  },
  {
   "cell_type": "code",
   "execution_count": null,
   "id": "accessible-beginning",
   "metadata": {},
   "outputs": [],
   "source": [
    "sleep(5)"
   ]
  },
  {
   "cell_type": "code",
   "execution_count": null,
   "id": "applicable-dairy",
   "metadata": {},
   "outputs": [],
   "source": [
    "from time import ctime as current_time\n",
    "\n",
    "current_time()"
   ]
  },
  {
   "cell_type": "code",
   "execution_count": null,
   "id": "composed-vessel",
   "metadata": {},
   "outputs": [],
   "source": [
    "from sklearn.linear_model import LinearRegression\n",
    "\n",
    "LinearRegression"
   ]
  },
  {
   "cell_type": "code",
   "execution_count": null,
   "id": "universal-formation",
   "metadata": {},
   "outputs": [],
   "source": [
    "import os"
   ]
  },
  {
   "cell_type": "code",
   "execution_count": null,
   "id": "caroline-constraint",
   "metadata": {},
   "outputs": [],
   "source": [
    "os.listdir()"
   ]
  },
  {
   "cell_type": "code",
   "execution_count": null,
   "id": "systematic-classics",
   "metadata": {},
   "outputs": [],
   "source": [
    "listdir()"
   ]
  },
  {
   "cell_type": "code",
   "execution_count": null,
   "id": "later-domestic",
   "metadata": {},
   "outputs": [],
   "source": [
    "from sys import version"
   ]
  },
  {
   "cell_type": "code",
   "execution_count": null,
   "id": "structured-vinyl",
   "metadata": {},
   "outputs": [],
   "source": [
    "version"
   ]
  },
  {
   "cell_type": "code",
   "execution_count": null,
   "id": "blond-value",
   "metadata": {},
   "outputs": [],
   "source": [
    "sys.version"
   ]
  },
  {
   "cell_type": "markdown",
   "id": "incorporated-vault",
   "metadata": {},
   "source": [
    "Demo: Create a module and import from it."
   ]
  },
  {
   "cell_type": "code",
   "execution_count": null,
   "id": "dated-commission",
   "metadata": {},
   "outputs": [],
   "source": [
    "import util\n",
    "\n",
    "util.double_plus_one(5)"
   ]
  },
  {
   "cell_type": "markdown",
   "id": "built-scheme",
   "metadata": {},
   "source": [
    "Gotchas:\n",
    "\n",
    "- updating code in an imported module\n",
    "    - restart any running python processes\n",
    "        - restart the kernel in a jupyter notebook\n",
    "        - restart the interpreter in an interactive session\n",
    "        - restart the ipython console in vs code\n",
    "- module naming\n",
    "    - don't name modules the same as modules from the python standard library or 3rd party libraries"
   ]
  },
  {
   "cell_type": "code",
   "execution_count": 1,
   "id": "attached-kentucky",
   "metadata": {},
   "outputs": [
    {
     "data": {
      "text/plain": [
       "1.4142135623730951"
      ]
     },
     "execution_count": 1,
     "metadata": {},
     "output_type": "execute_result"
    }
   ],
   "source": [
    "import math\n",
    "\n",
    "math.sqrt(2)"
   ]
  },
  {
   "cell_type": "code",
   "execution_count": 2,
   "id": "protecting-gates",
   "metadata": {},
   "outputs": [
    {
     "data": {
      "text/plain": [
       "8.0"
      ]
     },
     "execution_count": 2,
     "metadata": {},
     "output_type": "execute_result"
    }
   ],
   "source": [
    "import util\n",
    "\n",
    "util.double_sqrt(16)"
   ]
  },
  {
   "cell_type": "code",
   "execution_count": 3,
   "id": "bacterial-traveler",
   "metadata": {},
   "outputs": [
    {
     "data": {
      "text/plain": [
       "<function math.sqrt(x, /)>"
      ]
     },
     "execution_count": 3,
     "metadata": {},
     "output_type": "execute_result"
    }
   ],
   "source": [
    "math.sqrt"
   ]
  },
  {
   "cell_type": "markdown",
   "id": "mechanical-principal",
   "metadata": {},
   "source": [
    "Let's say I make a custom `math.py` file with some functions:\n",
    "\n",
    "- I have notebook `one.ipynb` that imports and uses my custom math module\n",
    "- I have a notebook `two.ipynb` where I realize I need the math module from the python stdlib\n",
    "    - I rename my math module to `custom_math.py` and import it, and now I can also import `math`\n",
    "- `one.ipynb` will need fixing, we'll have to go update the imports from `math` (the name of my old custom math module) to `custom_math`"
   ]
  }
 ],
 "metadata": {
  "kernelspec": {
   "display_name": "Python 3",
   "language": "python",
   "name": "python3"
  },
  "language_info": {
   "codemirror_mode": {
    "name": "ipython",
    "version": 3
   },
   "file_extension": ".py",
   "mimetype": "text/x-python",
   "name": "python",
   "nbconvert_exporter": "python",
   "pygments_lexer": "ipython3",
   "version": "3.8.3"
  }
 },
 "nbformat": 4,
 "nbformat_minor": 5
}
