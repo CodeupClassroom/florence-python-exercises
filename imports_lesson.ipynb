{
 "cells": [
  {
   "cell_type": "markdown",
   "id": "orange-majority",
   "metadata": {},
   "source": [
    "# Imports\n",
    "\n",
    "Terminology\n",
    "\n",
    "- **Module**: any python script\n",
    "- **Package**: collection of modules\n",
    "- **Library**: any of the above\n",
    "\n",
    "Example: pandas is all 3\n",
    "\n",
    "Where do imports come from? modules\n",
    "\n",
    "- Python Standard Library\n",
    "- 3rd party packages\n",
    "- your own code\n",
    "\n",
    "Ways to use module contents:\n",
    "\n",
    "- import the whole module\n",
    "- import specific pieces\n",
    "- aliases"
   ]
  },
  {
   "cell_type": "markdown",
   "id": "amber-sphere",
   "metadata": {},
   "source": [
    "## Examples"
   ]
  },
  {
   "cell_type": "markdown",
   "id": "amino-activation",
   "metadata": {},
   "source": [
    "Demo: Importing from the python stdlib"
   ]
  },
  {
   "cell_type": "markdown",
   "id": "brave-relevance",
   "metadata": {},
   "source": [
    "Demo: Create a module and import from it."
   ]
  },
  {
   "cell_type": "markdown",
   "id": "together-center",
   "metadata": {},
   "source": [
    "Gotchas:\n",
    "\n",
    "- updating code in an imported module\n",
    "- module naming"
   ]
  }
 ],
 "metadata": {
  "kernelspec": {
   "display_name": "Python 3",
   "language": "python",
   "name": "python3"
  },
  "language_info": {
   "codemirror_mode": {
    "name": "ipython",
    "version": 3
   },
   "file_extension": ".py",
   "mimetype": "text/x-python",
   "name": "python",
   "nbconvert_exporter": "python",
   "pygments_lexer": "ipython3",
   "version": "3.8.3"
  }
 },
 "nbformat": 4,
 "nbformat_minor": 5
}
